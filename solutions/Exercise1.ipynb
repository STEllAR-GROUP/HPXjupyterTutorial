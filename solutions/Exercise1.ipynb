{
 "cells": [
  {
   "cell_type": "code",
   "execution_count": 1,
   "id": "sound-xerox",
   "metadata": {},
   "outputs": [
    {
     "data": {
      "text/plain": []
     },
     "execution_count": 1,
     "metadata": {},
     "output_type": "execute_result"
    }
   ],
   "source": [
    "//  Copyright (c) 2020 Patrick Diehl\n",
    "//\n",
    "//  SPDX-License-Identifier: BSL-1.0\n",
    "//  Distributed under the Boost Software License, Version 1.0. (See accompanying\n",
    "//  file LICENSE_1_0.txt or copy at http://www.boost.org/LICENSE_1_0.txt)"
   ]
  },
  {
   "cell_type": "markdown",
   "id": "congressional-korean",
   "metadata": {},
   "source": [
    "# Exercise 1: \n"
   ]
  },
  {
   "cell_type": "code",
   "execution_count": 2,
   "id": "scientific-mortality",
   "metadata": {},
   "outputs": [
    {
     "data": {
      "text/plain": []
     },
     "execution_count": 2,
     "metadata": {},
     "output_type": "execute_result"
    }
   ],
   "source": [
    "#include <blaze/Math.h>\n",
    "#include <cmath>\n",
    "#include <iostream>\n",
    "#include <vector>\n",
    "#include<run_hpx.cpp>\n",
    "#include<hpx/include/lcos.hpp>\n",
    "#include<hpx/include/parallel_for_loop.hpp>"
   ]
  },
  {
   "cell_type": "markdown",
   "id": "distributed-harbor",
   "metadata": {},
   "source": [
    "## Helpfer function for Blaze\n",
    "\n",
    "[Blaze](https://bitbucket.org/blaze-lib/blaze/src/master/) is an open-source, high-performance C++ math library for dense and sparse arithmetic. This linrary has a HPX backend and utilzies the parallel algorithms to accelarted the linear algebara functions. Blaze is not covered in this cours and for more details we refer to\n",
    "\n",
    "* K. Iglberger, G. Hager, J. Treibig, and U. Rüde: High Performance Smart Expression Template Math Libraries . Proceedings of the 2nd International Workshop on New Algorithms and Programming Models for the Manycore Era (APMM 2012) at HPCS 2012\n",
    "* K. Iglberger, G. Hager, J. Treibig, and U. Rüde: Expression Templates Revisited: A Performance Analysis of Current Methodologies (Download). SIAM Journal on Scientific Computing, 34(2): C42--C69, 2012"
   ]
  },
  {
   "cell_type": "code",
   "execution_count": 3,
   "id": "conceptual-contrast",
   "metadata": {},
   "outputs": [
    {
     "data": {
      "text/plain": []
     },
     "execution_count": 3,
     "metadata": {},
     "output_type": "execute_result"
    }
   ],
   "source": [
    "blaze::DynamicMatrix<double> zeroMatrix(unsigned long N)\n",
    "{\n",
    "return blaze::DynamicMatrix<double>( N, N, 0 );\n",
    "};    "
   ]
  },
  {
   "cell_type": "code",
   "execution_count": 4,
   "id": "fundamental-engineering",
   "metadata": {},
   "outputs": [
    {
     "data": {
      "text/plain": []
     },
     "execution_count": 4,
     "metadata": {},
     "output_type": "execute_result"
    }
   ],
   "source": [
    "blaze::DynamicVector<double> zeroVector(unsigned long N)\n",
    "{\n",
    "return blaze::DynamicVector<double>(N,0);\n",
    "}; "
   ]
  },
  {
   "cell_type": "code",
   "execution_count": 5,
   "id": "lovely-designer",
   "metadata": {},
   "outputs": [
    {
     "data": {
      "text/plain": []
     },
     "execution_count": 5,
     "metadata": {},
     "output_type": "execute_result"
    }
   ],
   "source": [
    "//blaze::DynamicVector<double> solve(blaze::DynamicMatrix<double> M, blaze::DynamicVector<double> )\n",
    "//{\n",
    "\n",
    "\n",
    "//}"
   ]
  },
  {
   "cell_type": "markdown",
   "id": "institutional-folder",
   "metadata": {},
   "source": [
    "## Force function\n",
    "\n",
    "As the external load, a force function $force : \\mathbb{R} \\rightarrow \\mathbb{R}$\n",
    "\n",
    " $$ force  = \\begin{cases} 1, if x == 1, \\\\\n",
    " 0 , else\\end{cases}, x = [0,1]$$"
   ]
  },
  {
   "cell_type": "code",
   "execution_count": 6,
   "id": "administrative-dollar",
   "metadata": {},
   "outputs": [
    {
     "data": {
      "text/plain": []
     },
     "execution_count": 6,
     "metadata": {},
     "output_type": "execute_result"
    }
   ],
   "source": [
    "double force(double x){\n",
    "    if (x == 1)\n",
    "        return 1;\n",
    "    else\n",
    "        return 0;\n",
    "}"
   ]
  },
  {
   "cell_type": "markdown",
   "id": "chinese-cuisine",
   "metadata": {},
   "source": [
    "## Discretization\n",
    "\n",
    "As the domain $\\Omega$ we consider the intervall $[0,1]$ and discretize the interval with $n$ elements and using the spacing $h=\\frac{1}{n}$ such that $x={0,1\\cdot h,2\\cdot h,\\ldots,n-1\\cdot h}$."
   ]
  },
  {
   "cell_type": "code",
   "execution_count": 7,
   "id": "systematic-workstation",
   "metadata": {},
   "outputs": [
    {
     "data": {
      "text/plain": [
       "(unsigned long) 5\n"
      ]
     },
     "execution_count": 7,
     "metadata": {},
     "output_type": "execute_result"
    }
   ],
   "source": [
    "size_t n = std::pow(2,2);\n",
    "double h= 1./n;\n",
    "n += 1;"
   ]
  },
  {
   "cell_type": "code",
   "execution_count": 8,
   "id": "dietary-wisconsin",
   "metadata": {},
   "outputs": [
    {
     "data": {
      "text/plain": []
     },
     "execution_count": 8,
     "metadata": {},
     "output_type": "execute_result"
    }
   ],
   "source": [
    "auto x = zeroVector(n);\n",
    "for(size_t i = 0 ; i < n ; i++)\n",
    "    x[i] = i * h;"
   ]
  },
  {
   "cell_type": "code",
   "execution_count": 9,
   "id": "plastic-illinois",
   "metadata": {},
   "outputs": [
    {
     "name": "stdout",
     "output_type": "stream",
     "text": [
      "(           0 )\n",
      "(        0.25 )\n",
      "(         0.5 )\n",
      "(        0.75 )\n",
      "(           1 )\n"
     ]
    },
    {
     "data": {
      "text/plain": [
       "(std::ostream &) @0x7f737316b500\n"
      ]
     },
     "execution_count": 9,
     "metadata": {},
     "output_type": "execute_result"
    }
   ],
   "source": [
    "std::cout << x ;"
   ]
  },
  {
   "cell_type": "markdown",
   "id": "talented-factor",
   "metadata": {},
   "source": [
    "<span style=\"color:blue\">Task 1: Replace the for loop with the hpx::for loop to fill the right-hand side $f$ in parrallel</span>.\n"
   ]
  },
  {
   "cell_type": "code",
   "execution_count": 10,
   "id": "cellular-jacksonville",
   "metadata": {},
   "outputs": [
    {
     "data": {
      "text/plain": []
     },
     "execution_count": 10,
     "metadata": {},
     "output_type": "execute_result"
    }
   ],
   "source": [
    "auto f = zeroVector(n);"
   ]
  },
  {
   "cell_type": "code",
   "execution_count": 11,
   "id": "complex-forty",
   "metadata": {},
   "outputs": [
    {
     "data": {
      "text/plain": []
     },
     "execution_count": 11,
     "metadata": {},
     "output_type": "execute_result"
    }
   ],
   "source": [
    "/*\n",
    "for(size_t i = 0 ; i < n ; i++)\n",
    " {\n",
    "  f[i] = force(x[i]);   \n",
    " }\n",
    "*/"
   ]
  },
  {
   "cell_type": "code",
   "execution_count": 12,
   "id": "conditional-fireplace",
   "metadata": {},
   "outputs": [
    {
     "data": {
      "text/plain": [
       "(void) @0x7f7368f5ee48\n"
      ]
     },
     "execution_count": 12,
     "metadata": {},
     "output_type": "execute_result"
    }
   ],
   "source": [
    "run_hpx([](){\n",
    "\n",
    "hpx::for_loop(\n",
    "\thpx::execution::par, \n",
    "\t0, \n",
    "\tn,\n",
    "\t[&](boost::uint64_t i)\n",
    "\t\t{\n",
    "\t\t   f[i] = force(x[i]); \n",
    "\t\t}\n",
    "\t);\n",
    "    \n",
    "});"
   ]
  },
  {
   "cell_type": "code",
   "execution_count": 13,
   "id": "final-detector",
   "metadata": {},
   "outputs": [
    {
     "name": "stdout",
     "output_type": "stream",
     "text": [
      "(           0 )\n",
      "(           0 )\n",
      "(           0 )\n",
      "(           0 )\n",
      "(           1 )\n"
     ]
    },
    {
     "data": {
      "text/plain": [
       "(std::ostream &) @0x7f737316b500\n"
      ]
     },
     "execution_count": 13,
     "metadata": {},
     "output_type": "execute_result"
    }
   ],
   "source": [
    "std::cout << f ;"
   ]
  },
  {
   "cell_type": "markdown",
   "id": "distinguished-eating",
   "metadata": {},
   "source": [
    "<span style=\"color:blue\">Task 2: Use aysnchronous programming to assemble the stiffness matrix using hpx::async and hpx::future</span>.\n",
    "\n",
    "1. Finish the function assemble to fill the matrix from start to end"
   ]
  },
  {
   "cell_type": "code",
   "execution_count": 14,
   "id": "fossil-strength",
   "metadata": {},
   "outputs": [
    {
     "data": {
      "text/plain": []
     },
     "execution_count": 14,
     "metadata": {},
     "output_type": "execute_result"
    }
   ],
   "source": [
    "auto matrix = zeroMatrix(n);"
   ]
  },
  {
   "cell_type": "code",
   "execution_count": 15,
   "id": "perfect-gabriel",
   "metadata": {},
   "outputs": [
    {
     "data": {
      "text/plain": []
     },
     "execution_count": 15,
     "metadata": {},
     "output_type": "execute_result"
    }
   ],
   "source": [
    "/*\n",
    "matrix(0,0) = 1;\n",
    "for(size_t i = 1 ; i < n-1 ; i++){\n",
    "    matrix(i,i-1) = -2;\n",
    "    matrix(i,i) = 4;\n",
    "    matrix(i,i+1) = -2;\n",
    "    }\n",
    "matrix(n-1,n-1) = 1;\n",
    "matrix *= 1./(2*h*h);\n",
    "*/"
   ]
  },
  {
   "cell_type": "code",
   "execution_count": 16,
   "id": "applicable-clearing",
   "metadata": {},
   "outputs": [
    {
     "data": {
      "text/plain": []
     },
     "execution_count": 16,
     "metadata": {},
     "output_type": "execute_result"
    }
   ],
   "source": [
    "void assemble(blaze::DynamicMatrix<double>* matrix, size_t start, size_t end)\n",
    "{\n",
    "    \n",
    "    for(size_t i = start ; i < end ; i++)\n",
    "    {\n",
    "        (*matrix)(i,i-1) = -2;\n",
    "        (*matrix)(i,i) = 4;\n",
    "        (*matrix)(i,i+1) = -2;\n",
    "    }\n",
    "}"
   ]
  },
  {
   "cell_type": "code",
   "execution_count": 17,
   "id": "confidential-macintosh",
   "metadata": {},
   "outputs": [
    {
     "data": {
      "text/plain": [
       "(void) @0x7f7368f5ee48\n"
      ]
     },
     "execution_count": 17,
     "metadata": {},
     "output_type": "execute_result"
    }
   ],
   "source": [
    "run_hpx([&](){\n",
    "\n",
    "matrix(0,0) = 1;\n",
    "\n",
    "std::vector<hpx::future<void>> futures;\n",
    "\n",
    "futures.push_back(hpx::async(assemble,&matrix,1,std::round(float(n)/2)));\n",
    "futures.push_back(hpx::async(assemble,&matrix,std::round(float(n)/2),n-1));\n",
    "\n",
    "hpx::wait_all(futures);\n",
    "\n",
    "matrix(n-1,n-1) = 1;\n",
    "matrix *= 1./(2*h*h);\n",
    "    \n",
    "});"
   ]
  },
  {
   "cell_type": "code",
   "execution_count": 18,
   "id": "twenty-monaco",
   "metadata": {},
   "outputs": [
    {
     "name": "stdout",
     "output_type": "stream",
     "text": [
      "(            8            0            0            0            0 )\n",
      "(          -16           32          -16            0            0 )\n",
      "(            0          -16           32          -16            0 )\n",
      "(            0            0          -16           32          -16 )\n",
      "(            0            0            0            0            8 )\n"
     ]
    },
    {
     "data": {
      "text/plain": [
       "(std::ostream &) @0x7f737316b500\n"
      ]
     },
     "execution_count": 18,
     "metadata": {},
     "output_type": "execute_result"
    }
   ],
   "source": [
    "std::cout << matrix ;"
   ]
  },
  {
   "cell_type": "code",
   "execution_count": null,
   "id": "artistic-edgar",
   "metadata": {},
   "outputs": [],
   "source": []
  }
 ],
 "metadata": {
  "kernelspec": {
   "display_name": "C++17",
   "language": "C++",
   "name": "cling-cpp17"
  },
  "language_info": {
   "codemirror_mode": "c++",
   "file_extension": ".c++",
   "mimetype": "text/x-c++src",
   "name": "c++"
  }
 },
 "nbformat": 4,
 "nbformat_minor": 5
}
