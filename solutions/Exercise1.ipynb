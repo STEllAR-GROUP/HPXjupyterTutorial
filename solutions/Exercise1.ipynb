{
 "cells": [
  {
   "cell_type": "code",
   "execution_count": 1,
   "id": "sound-xerox",
   "metadata": {},
   "outputs": [
    {
     "data": {
      "text/plain": []
     },
     "execution_count": 1,
     "metadata": {},
     "output_type": "execute_result"
    }
   ],
   "source": [
    "//  Copyright (c) 2020 Patrick Diehl\n",
    "//\n",
    "//  SPDX-License-Identifier: BSL-1.0\n",
    "//  Distributed under the Boost Software License, Version 1.0. (See accompanying\n",
    "//  file LICENSE_1_0.txt or copy at http://www.boost.org/LICENSE_1_0.txt)"
   ]
  },
  {
   "cell_type": "markdown",
   "id": "congressional-korean",
   "metadata": {},
   "source": [
    "# Exercise 1: Classical linear elasticity model\n",
    "\n",
    "Let $\\Omega = (0,1) \\subset \\mathbb R$ and $\\overline{\\Omega}$ be the closure of $\\Omega$, i.e.\\ $\\Omega=[0,1]$. The continuum local problem consists in finding the displacement $(u\\in\\overline{\\Omega})$ such that:\n",
    "\\begin{align}\n",
    "\\label{eq:1dlinearelasticity}\n",
    "- E u''(x) = f_b(x), &\\quad \\forall x \\in \\Omega, \\\\\n",
    "\\label{eq:Dirichlet}\n",
    "u(x) = 0, &\\quad \\text{at}\\ x=0,\\\\\n",
    "\\label{eq:Neumann}\n",
    "Eu'(x) = g, &\\quad \\text{at}\\ x=1,\n",
    "\\end{align}\n",
    "where $E$ is the constant modulus of elasticity of the bar, $f_b=f_b(x)$ is a scalar function describing the external body force density (per unit length), and $g \\in \\mathbb R$ is the traction force applied at end point $x=1$. \n"
   ]
  },
  {
   "cell_type": "code",
   "execution_count": 2,
   "id": "scientific-mortality",
   "metadata": {},
   "outputs": [
    {
     "data": {
      "text/plain": []
     },
     "execution_count": 2,
     "metadata": {},
     "output_type": "execute_result"
    }
   ],
   "source": [
    "#include <blaze/Math.h>\n",
    "#include <BlazeIterative.hpp>\n",
    "#include <cmath>\n",
    "#include <iostream>\n",
    "#include <vector>\n",
    "#include<run_hpx.cpp>\n",
    "#include<hpx/include/lcos.hpp>\n",
    "#include<hpx/include/parallel_for_loop.hpp>"
   ]
  },
  {
   "cell_type": "markdown",
   "id": "distributed-harbor",
   "metadata": {},
   "source": [
    "## Helpfer function for Blaze\n",
    "\n",
    "[Blaze](https://bitbucket.org/blaze-lib/blaze/src/master/) is an open-source, high-performance C++ math library for dense and sparse arithmetic. This linrary has a HPX backend and utilzies the parallel algorithms to accelarted the linear algebara functions. Blaze is not covered in this cours and for more details we refer to\n",
    "\n",
    "* K. Iglberger, G. Hager, J. Treibig, and U. Rüde: High Performance Smart Expression Template Math Libraries . Proceedings of the 2nd International Workshop on New Algorithms and Programming Models for the Manycore Era (APMM 2012) at HPCS 2012\n",
    "* K. Iglberger, G. Hager, J. Treibig, and U. Rüde: Expression Templates Revisited: A Performance Analysis of Current Methodologies (Download). SIAM Journal on Scientific Computing, 34(2): C42--C69, 2012"
   ]
  },
  {
   "cell_type": "code",
   "execution_count": 3,
   "id": "conceptual-contrast",
   "metadata": {},
   "outputs": [
    {
     "data": {
      "text/plain": []
     },
     "execution_count": 3,
     "metadata": {},
     "output_type": "execute_result"
    }
   ],
   "source": [
    "// Generates a Blaze dynamic matrix of size N times N and fills the matrix with zeros\n",
    "blaze::DynamicMatrix<double> zeroMatrix(unsigned long N)\n",
    "{\n",
    "return blaze::DynamicMatrix<double>( N, N, 0 );\n",
    "};    "
   ]
  },
  {
   "cell_type": "code",
   "execution_count": 4,
   "id": "fundamental-engineering",
   "metadata": {},
   "outputs": [
    {
     "data": {
      "text/plain": []
     },
     "execution_count": 4,
     "metadata": {},
     "output_type": "execute_result"
    }
   ],
   "source": [
    "// Generates a Blaze dynamic vector of size N and fills the vector with zeros\n",
    "blaze::DynamicVector<double> zeroVector(unsigned long N)\n",
    "{\n",
    "return blaze::DynamicVector<double>(N,0);\n",
    "}; "
   ]
  },
  {
   "cell_type": "code",
   "execution_count": 5,
   "id": "lovely-designer",
   "metadata": {},
   "outputs": [
    {
     "data": {
      "text/plain": []
     },
     "execution_count": 5,
     "metadata": {},
     "output_type": "execute_result"
    }
   ],
   "source": [
    "// Solves the matrix system A \\times x = b and returns x\n",
    "blaze::DynamicVector<double> solve(blaze::DynamicMatrix<double> A, blaze::DynamicVector<double> b )\n",
    "{\n",
    "     blaze::iterative::BiCGSTABTag tag;\n",
    "     tag.do_log() = true;\n",
    "     return solve(A,b,tag);\n",
    "}"
   ]
  },
  {
   "cell_type": "markdown",
   "id": "institutional-folder",
   "metadata": {},
   "source": [
    "## Force function\n",
    "\n",
    "As the external load, a linear $force_b$ function $force : \\mathbb{R} \\rightarrow \\mathbb{R}$\n",
    "\n",
    " $$ force_b(x)  = \\begin{cases} 1, if x == 1, \\\\\n",
    " 0 , else\\end{cases}, x = [0,1]$$"
   ]
  },
  {
   "cell_type": "code",
   "execution_count": 6,
   "id": "administrative-dollar",
   "metadata": {},
   "outputs": [
    {
     "data": {
      "text/plain": []
     },
     "execution_count": 6,
     "metadata": {},
     "output_type": "execute_result"
    }
   ],
   "source": [
    "double force(double x){\n",
    "    \n",
    "    if ( x == 1 )\n",
    "        return 1;\n",
    "    \n",
    "    return 0;\n",
    "}"
   ]
  },
  {
   "cell_type": "markdown",
   "id": "chinese-cuisine",
   "metadata": {},
   "source": [
    "## Discretization\n",
    "\n",
    "As the domain $\\overline{\\Omega}$ we consider the intervall $[0,1]$ and discretize the interval with $n$ elements and using the spacing $h=\\frac{1}{n}$ such that $x={0,1\\cdot h,2\\cdot h,\\ldots,n\\cdot h}$."
   ]
  },
  {
   "cell_type": "code",
   "execution_count": 7,
   "id": "systematic-workstation",
   "metadata": {},
   "outputs": [
    {
     "data": {
      "text/plain": [
       "(unsigned long) 5\n"
      ]
     },
     "execution_count": 7,
     "metadata": {},
     "output_type": "execute_result"
    }
   ],
   "source": [
    "size_t n = std::pow(2,2);\n",
    "double h= 1./n;\n",
    "n += 1;"
   ]
  },
  {
   "cell_type": "code",
   "execution_count": 8,
   "id": "dietary-wisconsin",
   "metadata": {},
   "outputs": [
    {
     "data": {
      "text/plain": []
     },
     "execution_count": 8,
     "metadata": {},
     "output_type": "execute_result"
    }
   ],
   "source": [
    "auto x = zeroVector(n);\n",
    "for(size_t i = 0 ; i < n ; i++)\n",
    "    x[i] = i * h;"
   ]
  },
  {
   "cell_type": "code",
   "execution_count": 9,
   "id": "plastic-illinois",
   "metadata": {},
   "outputs": [
    {
     "name": "stdout",
     "output_type": "stream",
     "text": [
      "(           0 )\n",
      "(        0.25 )\n",
      "(         0.5 )\n",
      "(        0.75 )\n",
      "(           1 )\n"
     ]
    },
    {
     "data": {
      "text/plain": [
       "(std::ostream &) @0x7fcfdfe3b500\n"
      ]
     },
     "execution_count": 9,
     "metadata": {},
     "output_type": "execute_result"
    }
   ],
   "source": [
    "// Print the discrete nodes\n",
    "std::cout << x ;"
   ]
  },
  {
   "cell_type": "markdown",
   "id": "talented-factor",
   "metadata": {},
   "source": [
    "<span style=\"color:blue\">Task 1: Replace the for loop in Cell 11 with the hpx::for loop to fill the right-hand side $f$ in parrallel in Cell 12</span>.\n"
   ]
  },
  {
   "cell_type": "markdown",
   "id": "occupational-velvet",
   "metadata": {},
   "source": [
    "## Prepare the external load"
   ]
  },
  {
   "cell_type": "code",
   "execution_count": 10,
   "id": "cellular-jacksonville",
   "metadata": {},
   "outputs": [
    {
     "data": {
      "text/plain": []
     },
     "execution_count": 10,
     "metadata": {},
     "output_type": "execute_result"
    }
   ],
   "source": [
    "// Get the force vector for the right-hand side\n",
    "auto f = zeroVector(n);"
   ]
  },
  {
   "cell_type": "code",
   "execution_count": 11,
   "id": "complex-forty",
   "metadata": {},
   "outputs": [
    {
     "data": {
      "text/plain": []
     },
     "execution_count": 11,
     "metadata": {},
     "output_type": "execute_result"
    }
   ],
   "source": [
    "/*\n",
    "for(size_t i = 0 ; i < n  ; i++)\n",
    " {\n",
    "  f[i] = force(x[i]);   \n",
    " }\n",
    "*/"
   ]
  },
  {
   "cell_type": "code",
   "execution_count": 12,
   "id": "conditional-fireplace",
   "metadata": {},
   "outputs": [
    {
     "data": {
      "text/plain": [
       "(void) @0x7fcfd4e74e48\n"
      ]
     },
     "execution_count": 12,
     "metadata": {},
     "output_type": "execute_result"
    }
   ],
   "source": [
    "run_hpx([](){\n",
    "\n",
    "hpx::for_loop(\n",
    "\thpx::execution::par, \n",
    "\t0, \n",
    "\tn,\n",
    "\t[&](boost::uint64_t i)\n",
    "\t\t{\n",
    "\t\t   f[i] = force(x[i]); \n",
    "\t\t}\n",
    "\t);\n",
    "});"
   ]
  },
  {
   "cell_type": "code",
   "execution_count": 22,
   "id": "final-detector",
   "metadata": {},
   "outputs": [
    {
     "name": "stdout",
     "output_type": "stream",
     "text": [
      "(           0 )\n",
      "(           0 )\n",
      "(           0 )\n",
      "(           0 )\n",
      "(           1 )\n"
     ]
    },
    {
     "data": {
      "text/plain": [
       "(std::ostream &) @0x7fcfdfe3b500\n"
      ]
     },
     "execution_count": 22,
     "metadata": {},
     "output_type": "execute_result"
    }
   ],
   "source": [
    "// Print the force vector\n",
    "std::cout << f ;"
   ]
  },
  {
   "cell_type": "markdown",
   "id": "multiple-slave",
   "metadata": {},
   "source": [
    "### Assemble the stiffness matrix using finite differences\n",
    "\n",
    "\n",
    "1. Dirichlet boundary condition at $x=0$:\n",
    "\\begin{equation}\n",
    "u_1 = 0.\n",
    "\\end{equation}\n",
    "2. Finite difference schems for \n",
    "In $\\overline{\\Omega}$: \n",
    "$\\forall i=2,\\ldots,n-1$:\n",
    "\\begin{equation}\n",
    "- E \\frac{u_{i-1}-2u_i+u_{i+1}}{h^2} = f_b(x_k).\n",
    "\\end{equation}\n",
    "3. Neumann boundary condition at $x=1$:\n",
    "\\begin{equation}\n",
    "E \\frac{u_{n-3}-4u_{n-2}+3u_n-1}{2h} = g.\n",
    "\\end{equation}\n",
    "\n",
    "For simplicity we assume $E=1$.\n",
    "\n"
   ]
  },
  {
   "cell_type": "markdown",
   "id": "distinguished-eating",
   "metadata": {},
   "source": [
    "<span style=\"color:blue\">Task 2: Use aysnchronous programming to assemble the stiffness matrix using hpx::async and hpx::future</span>.\n",
    "\n",
    "1. Finish the function assemble to fill the matrix from start to end in Cell 16\n",
    "2. Generate a vector of hpx::futures<void> to collect all future for synchronization in Cell 17\n",
    "3. Use hpx::async to execute the function assemble asynchronously in Cell 17\n",
    "4. Use hpx::wait_all to syncrhonize the results in Cell 17"
   ]
  },
  {
   "cell_type": "code",
   "execution_count": 14,
   "id": "fossil-strength",
   "metadata": {},
   "outputs": [
    {
     "data": {
      "text/plain": []
     },
     "execution_count": 14,
     "metadata": {},
     "output_type": "execute_result"
    }
   ],
   "source": [
    "// Get the stiffness matrix filled with zeros\n",
    "auto matrix = zeroMatrix(n);"
   ]
  },
  {
   "cell_type": "code",
   "execution_count": 15,
   "id": "perfect-gabriel",
   "metadata": {},
   "outputs": [
    {
     "data": {
      "text/plain": []
     },
     "execution_count": 15,
     "metadata": {},
     "output_type": "execute_result"
    }
   ],
   "source": [
    "/*\n",
    "matrix(0,0) = 1;\n",
    "for(size_t i = 1 ; i < n-1 ; i++){\n",
    "    matrix(i,i-1) = -2;\n",
    "    matrix(i,i) = 4;\n",
    "    matrix(i,i+1) = -2;\n",
    "    }\n",
    "\n",
    "matrix(n-1,n-1) = 3*h;\n",
    "matrix(n-1,n-2) = -4*h;    \n",
    "matrix(n-1,n-3) = h;\n",
    "\n",
    "matrix *= 1./(2*h*h);\n",
    "*/"
   ]
  },
  {
   "cell_type": "code",
   "execution_count": 16,
   "id": "applicable-clearing",
   "metadata": {},
   "outputs": [
    {
     "data": {
      "text/plain": []
     },
     "execution_count": 16,
     "metadata": {},
     "output_type": "execute_result"
    }
   ],
   "source": [
    "// Assmeble the part of the stiffness matrix where the index goes from start to end\n",
    "void assemble(blaze::DynamicMatrix<double>* matrix, size_t start, size_t end)\n",
    "{\n",
    "    \n",
    "    for(size_t i = start ; i < end ; i++)\n",
    "    {\n",
    "        (*matrix)(i,i-1) = -2;\n",
    "        (*matrix)(i,i) = 4;\n",
    "        (*matrix)(i,i+1) = -2;\n",
    "    }\n",
    "}"
   ]
  },
  {
   "cell_type": "code",
   "execution_count": 17,
   "id": "confidential-macintosh",
   "metadata": {},
   "outputs": [
    {
     "data": {
      "text/plain": [
       "(void) @0x7fcfd4e74e48\n"
      ]
     },
     "execution_count": 17,
     "metadata": {},
     "output_type": "execute_result"
    }
   ],
   "source": [
    "run_hpx([&](){\n",
    "\n",
    "matrix(0,0) = 1;\n",
    "\n",
    "std::vector<hpx::future<void>> futures;\n",
    "\n",
    "futures.push_back(hpx::async(assemble,&matrix,1,std::round(float(n)/2)));\n",
    "futures.push_back(hpx::async(assemble,&matrix,std::round(float(n)/2),n-1));\n",
    "\n",
    "hpx::wait_all(futures);\n",
    "\n",
    "matrix(n-1,n-1) = 3*h;\n",
    "matrix(n-1,n-2) = -4*h;    \n",
    "matrix(n-1,n-3) = h;\n",
    "    \n",
    "    \n",
    "matrix *= 1./(2.*h*h);\n",
    "    \n",
    "});"
   ]
  },
  {
   "cell_type": "code",
   "execution_count": 18,
   "id": "twenty-monaco",
   "metadata": {},
   "outputs": [
    {
     "name": "stdout",
     "output_type": "stream",
     "text": [
      "(            8            0            0            0            0 )\n",
      "(          -16           32          -16            0            0 )\n",
      "(            0          -16           32          -16            0 )\n",
      "(            0            0          -16           32          -16 )\n",
      "(            0            0            2           -8            6 )\n"
     ]
    },
    {
     "data": {
      "text/plain": [
       "(std::ostream &) @0x7fcfdfe3b500\n"
      ]
     },
     "execution_count": 18,
     "metadata": {},
     "output_type": "execute_result"
    }
   ],
   "source": [
    "std::cout << matrix ;"
   ]
  },
  {
   "cell_type": "code",
   "execution_count": 19,
   "id": "nuclear-journal",
   "metadata": {},
   "outputs": [
    {
     "data": {
      "text/plain": []
     },
     "execution_count": 19,
     "metadata": {},
     "output_type": "execute_result"
    }
   ],
   "source": [
    "// Solve the matrix system matrix times displacement - f\n",
    "auto displacement = solve(matrix,f);"
   ]
  },
  {
   "cell_type": "code",
   "execution_count": 20,
   "id": "artistic-edgar",
   "metadata": {},
   "outputs": [
    {
     "name": "stdout",
     "output_type": "stream",
     "text": [
      "(           0 )\n",
      "(        0.25 )\n",
      "(         0.5 )\n",
      "(        0.75 )\n",
      "(           1 )\n"
     ]
    },
    {
     "data": {
      "text/plain": [
       "(std::ostream &) @0x7fcfdfe3b500\n"
      ]
     },
     "execution_count": 20,
     "metadata": {},
     "output_type": "execute_result"
    }
   ],
   "source": [
    "std::cout << displacement;"
   ]
  },
  {
   "cell_type": "markdown",
   "id": "equal-ukraine",
   "metadata": {},
   "source": [
    "# Doing python plots from C++ \n",
    "\n",
    "Doing plots in Python is quite convinent using [matplotlib](https://matplotlib.org/), however, plotting in C++ is a little bit more tricky since we need to write the data as a CSV file and use Python or Matplotlib to plot it. The notebooks have some magic implemented to plot C++ variables directly in Python's matplotlib. \n",
    "\n",
    "Below we use %plot x y to plot a new line and we can repeat this command to add new lines to the same plot. Using %plotc x y will plot all previous added lines and clear the figure."
   ]
  },
  {
   "cell_type": "code",
   "execution_count": 21,
   "id": "bridal-median",
   "metadata": {},
   "outputs": [
    {
     "data": {
      "text/html": [
       "<img src='data:image/png;base64,iVBORw0KGgoAAAANSUhEUgAAAoAAAAHgCAYAAAA10dzkAAAAOXRFWHRTb2Z0d2FyZQBNYXRwbG90bGliIHZlcnNpb24zLjQuMCwgaHR0cHM6Ly9tYXRwbG90bGliLm9yZy8+yak3AAAACXBIWXMAAA9hAAAPYQGoP6dpAABC/ElEQVR4nO3daXhU9f3+8XsmyySBJCwhCYSw71sWlghKrTaKG0pVQGKVWrVVCVLiBoqgUoEqIkuiVFtr+69hFVcQq1FUEKWShB0CBEhYEghLEhKyzZz/A39NSwUlkMzJzHm/rmse5HAOc8+XMOe+zmcWm2EYhgAAAGAZdrMDAAAAwL0ogAAAABZDAQQAALAYCiAAAIDFUAABAAAshgIIAABgMRRAAAAAi6EAAgAAWAwFEAAAwGIogAAAABZDAQQAALAYCiAAAIDFUAABAAAshgIIAABgMRRAAAAAi6EAAgAAWAwFEAAAwGIogAAAABZDAQQAALAYCiAAAIDFUAABAAAshgIIAABgMRRAAAAAi6EAAgAAWAwFEAAAwGIogAAAABZDAQQAALAYCiAAAIDFUAABAAAshgIIAABgMRRAAAAAi6EAAgAAWAwFEAAAwGIogAAAABZDAQQAALAYCiAAAIDFUAABAAAshgIIAABgMRRAAAAAi6EAAgAAWAwFEAAAwGIogAAAABZDAQQAALAYCiAAAIDFUAABAAAshgIIAABgMRRAAAAAi6EAAgAAWAwFEAAAwGIogAAAABZDAQQAALAYCiAAAIDFUAABAAAshgIIAABgMRRAAAAAi6EAAgAAWIyv2QE8mcvl0uHDhxUcHCybzWZ2HAAAcAEMw1BpaanatGkju92a18IogJfg8OHDio6ONjsGAAC4CPn5+Wrbtq3ZMUxBAbwEwcHBkr7/BQoJCTE5DQAAuBAlJSWKjo6uPY9bEQXwEvx77BsSEkIBBADAw1j55VvWHHwDAABYGAUQAADAYiiAAAAAFkMBBAAAsBgKIAAAgMVQAAEAACyGAggAAGAxFEAAAACLoQACAABYjNcUwC+//FLDhw9XmzZtZLPZ9O677/7kMWvWrFF8fLwcDoe6dOmiN998s8FzAgAAmM1rCmBZWZliYmKUlpZ2Qfvv27dPN954o6666iplZ2fr97//ve677z59/PHHDZwUAADAXF7zXcDXX3+9rr/++gvef+HCherYsaNeeuklSVLPnj21du1avfzyyxo2bFhDxQQAABfIMAxLf19vQ/KaK4B1tX79eiUmJp61bdiwYVq/fv15j6msrFRJSclZNwAAUP+y8k7q+nlfaX9RmdlRvJJlC2BBQYEiIiLO2hYREaGSkhKdOXPmnMfMnDlToaGhtbfo6Gh3RAUAwDIMw9DrX+Zq5ML12llQqlkf7TQ7kleybAG8GJMnT1ZxcXHtLT8/3+xIAAB4jZNlVbrvb9/p+VU7VOMydEPfSL0wsp/ZsbyS17wGsK4iIyNVWFh41rbCwkKFhIQoMDDwnMc4HA45HA53xAMAwFK+239CDy/K0uHiCvn72vX0Tb30q4R2vAawgVi2AA4ePFirVq06a9snn3yiwYMHm5QIAADrcbkMLfxyr176Z46cLkMdw5ooNSlOvduEmh3Nq3lNATx9+rT27NlT+/O+ffuUnZ2tFi1aqF27dpo8ebIOHTqkv//975KkBx54QKmpqXr88cf1m9/8Rp999pmWLl2qlStXmvUQAACwlOOnK5WydJO+yDkmSbolto2e/2VfNXV4TT1ptLxmhb/77jtdddVVtT+npKRIksaOHas333xTR44cUV5eXu2fd+zYUStXrtTEiRM1b948tW3bVn/+85/5CBgAANzg29zjenhxlgpLKuXwtevZm3tr9MBoRr5uYjMMwzA7hKcqKSlRaGioiouLFRISYnYcAAAaPafL0Cuf79HLn+bIZUidWzVR2p3x6hHpvvMo528vugIIAAAat2Ollfr9kiyt23NcknRbfFtNH9FbQf7UEXdjxQEAQINbt6dIExZnq+h0pQL9fDR9RB/d3r+t2bEsiwIIAAAajNNlaF7Gbi34bLcMQ+oW0VRpSfHqGhFsdjRLowACAIAGUVhSoYcXZenbfSckSXcMjNa04b0V6O9jcjJQAAEAQL37IueYUpZk63hZlZr4+2jGrX11S2yU2bHwfyiAAACg3tQ4XXrpkxy9umavJKln6xClJcWpU6umJifDf6MAAgCAenH41Bk9vChL3x04KUn61WXtNOXGXgrwY+Tb2FAAAQDAJftsZ6FSlm7SqfJqNXX4atZtfXVTvzZmx8J5UAABAMBFq3a69OLHu/Tal7mSpL5RoUpNilP7lk1MToYfQwEEAAAX5eDJciWnZyk7/5Qk6ddDOmjyDT3k8GXk29hRAAEAQJ19vK1Ajy3bpJKKGoUE+OqF22N0XZ9Is2PhAlEAAQDABauqcWnmRzv013X7JUkx0c2UOiZO0S2CzA2GOqEAAgCAC5J3vFzJizK1+WCxJOn+oR312LAe8ve1m5wMdUUBBAAAP2nVliN6YvlmlVbWqFmQn2bfHqPEXhFmx8JFogACAIDzqqh26vmVO/T/vjkgSerfvrnmj4lTVLNAk5PhUlAAAQDAOe0rKtO4tzK1/UiJJOnBn3dWyjXd5OfDyNfTUQABAMAPvJd9SE+u2KKyKqdaNPHXnFEx+nn3cLNjoZ5QAAEAQK2Kaqee/WCbFm3IlyQN6thC8++IU2RogMnJUJ8ogAAAQJK05+hpjXsrU7sKS2WzSclXddGEX3SVLyNfr0MBBAAAenvjQU15d6vOVDsV1tShuaNjdUXXMLNjoYFQAAEAsLDyqhpNfW+blm88KEka0rml5t4Rq/BgRr7ejAIIAIBF5RSWatxbmdp99LTsNmnCL7op+eou8rHbzI6GBkYBBADAYgzD0NLv8jXt/W2qqHYpPNiheXfEaXDnlmZHg5tQAAEAsJDTlTWa8s4WvZt9WJI0tGuYXh4dq7CmDpOTwZ0ogAAAWMT2wyVKTs9UblGZfOw2PXJtNz3ws86yM/K1HAogAABezjAMpW/I07MfbFdVjUutQwM0f0ycBnZoYXY0mIQCCACAFyutqNakFVu0cvMRSdLVPcI1e2SMWjTxNzkZzEQBBADAS209VKxx6Zk6cLxcvnabHr+uu+67ohMjX1AAAQDwNoZh6G9f79eMVTtV5XQpqlmgFiTFKb5dc7OjoZGgAAIA4EWKz1TrieWbtXpbgSTpml4Rmn17jEKD/ExOhsaEAggAgJfIzj+l5PRMHTx5Rn4+Nk2+vqfuubyDbDZGvjgbBRAAAA9nGIb+snafZn20UzUuQ9EtApU6Jl4x0c3MjoZGigIIAIAHO1VepUeXbdKnO45Kkm7oG6lZt/VTSAAjX5wfBRAAAA+18cAJjU/P0uHiCvn72vX0Tb30q4R2jHzxkyiAAAB4GJfL0Gtf5erFj3fJ6TLUMayJUpPi1LtNqNnR4CEogAAAeJDjpyv1yLJNWrPrmCTp5pg2mnFrXzV1cErHheO3BQAAD/Ft7nE9vDhLhSWVcvja9czNvXXHwGhGvqgzCiAAAI2cy2XolTV7NOeTHLkMqXOrJkq7M149IkPMjgYPRQEEAKARO1ZaqZSl2fpqd5Ek6db4KE2/pY+aMPLFJeC3BwCARurrPUWasCRbx0orFejno+du6a2RA6LNjgUvQAEEAKCRcboMzcvYrQWf7ZZhSN0imiotKV5dI4LNjgYvQQEEAKARKSyp0ITFWfom94QkafSAaD1zc28F+vuYnAzehAIIAEAj8WXOMU1ckq3jZVUK8vfRjF/21Yi4KLNjwQtRAAEAMFmN06WXP83RK2v2yjCknq1DlJYUp06tmpodDV6KAggAgImOFJ/Rw4uy9K/9JyVJdya009M39VKAHyNfNBwKIAAAJvl851GlLM3WyfJqNXX4atZtfXVTvzZmx4IFUAABAHCzaqdLsz/epT99mStJ6hMVotQx8eoQ1sTkZLAKCiAAAG508GS5xi/KUlbeKUnSr4d00OQbesjhy8gX7kMBBADATf65rUCPLd+s4jPVCg7w1Yu399N1fVqbHQsWRAEEAKCBVdW4NOujnXpj3T5JUkzbUKUmxSu6RZDJyWBVFEAAABpQ/olyJadnatPBYknSfVd01OPX9ZC/r93kZLAyCiAAAA3koy1H9Pjbm1VaUaPQQD+9NDJGib0izI4FUAABAKhvFdVOzVi1Q39ff0CS1L99c80fE6eoZoEmJwO+RwEEAKAe7SsqU3J6prYdLpEkPXBlZz1ybTf5+TDyReNBAQQAoJ68v+mwnlyxRacra9Siib9eGhWjq7qHmx0L+AEKIAAAl6ii2qlnP9iuRRvyJEmDOrTQ/DFxigwNMDkZcG5edT06LS1NHTp0UEBAgBISErRhw4Yf3X/u3Lnq3r27AgMDFR0drYkTJ6qiosJNaQEA3mDP0dMakbZOizbkyWaTxl/dRen3J1D+0Kh5zRXAJUuWKCUlRQsXLlRCQoLmzp2rYcOGadeuXQoP/+Hl9/T0dE2aNElvvPGGhgwZopycHP3617+WzWbTnDlzTHgEAABPsyLzoKa8u1XlVU6FNfXXy6NjNbRrK7NjAT/JZhiGYXaI+pCQkKCBAwcqNTVVkuRyuRQdHa3x48dr0qRJP9g/OTlZO3bsUEZGRu22Rx55RN9++63Wrl17QfdZUlKi0NBQFRcXKyQkpH4eCACg0SuvqtG097Zp2caDkqTBnVpq3h2xCg/hqp8n4PztJSPgqqoqbdy4UYmJibXb7Ha7EhMTtX79+nMeM2TIEG3cuLF2TJybm6tVq1bphhtucEtmAIBnyiks1S2p67Rs40HZbdLExG76x30JlD94FK8YARcVFcnpdCoi4uwP14yIiNDOnTvPeUxSUpKKiop0xRVXyDAM1dTU6IEHHtCTTz553vuprKxUZWVl7c8lJSX18wAAAI2eYRhatvGgpr63VRXVLoUHOzTvjjgN7tzS7GhAnXnFFcCLsWbNGs2YMUOvvPKKMjMztWLFCq1cuVLTp08/7zEzZ85UaGho7S06OtqNiQEAZimrrFHK0k16fPlmVVS7NLRrmFZNGEr5g8fyitcAVlVVKSgoSMuXL9eIESNqt48dO1anTp3Se++994Njhg4dqssuu0wvvvhi7bZ//OMf+u1vf6vTp0/Lbv9hNz7XFcDo6GhLv4YAALzdjiMlGpeeqdxjZfKx25RyTTc9eGVn2e02s6PhIvEaQC+5Aujv76/+/fuf9YYOl8uljIwMDR48+JzHlJeX/6Dk+fj4SPr+Mv+5OBwOhYSEnHUDAHgnwzCU/m2ebklbp9xjZYoMCdDi316mcVd1ofzB43nFawAlKSUlRWPHjtWAAQM0aNAgzZ07V2VlZbrnnnskSXfffbeioqI0c+ZMSdLw4cM1Z84cxcXFKSEhQXv27NHTTz+t4cOH1xZBAIA1lVZU68l3tuqDTYclSVd1b6WXRsWqRRN/k5MB9cNrCuDo0aN17NgxTZ06VQUFBYqNjdXq1atr3xiSl5d31hW/KVOmyGazacqUKTp06JBatWql4cOH6/nnnzfrIQAAGoGth4qVnJ6p/cfL5Wu36fHruuu+Kzpx1Q9exSteA2gWXkMAAN7DMAz9ff0BPb9yh6qcLkU1C9T8MXHq37652dFQzzh/e9EVQAAALlbxmWpNenuzPtpaIElK7Bmh2SP7qVkQI194JwogAMDSNuWfUvKiTOWfOCM/H5smX99T91zeQTYbI194LwogAMCSDMPQG+v2a9ZHO1TtNBTdIlCpY+IVE93M7GhAg6MAAgAs51R5lR5dtlmf7iiUJF3fJ1Kzbuun0EA/k5MB7kEBBABYysYDJ/XwoiwdOnVG/j52PX1TT/3qsvaMfGEpFEAAgCW4XIZe/ypXL368SzUuQx1aBik1KV59okLNjga4HQUQAOD1TpRV6ZGl2fp81zFJ0vCYNprxyz4KDmDkC2uiAAIAvNqGfSf08KIsFZRUyOFr1zM399YdA6MZ+cLSKIAAAK/kchl69Yu9mvNJjpwuQ51aNVFaUrx6trbmB/8C/40CCADwOkWnKzVxSba+2l0kSbo1LkrTR/RREwenPUCiAAIAvMzXe4s0YXG2jpVWKsDPrudu6aOR/dsy8gX+CwUQAOAVnC5DCz7brfkZu+UypG4RTZWaFK9uEcFmRwMaHQogAMDjHS2p0ITF2Vqfe1ySNGpAWz17cx8F+vuYnAxonCiAAACP9tXuY5q4JFtFp6sU5O+j53/ZR7+Ma2t2LKBRowACADxSjdOluZ/uVtqaPTIMqUdksNLujFfnVk3NjgY0ehRAAIDHOVJ8RhMWZWvD/hOSpKSEdpp6Uy8F+DHyBS4EBRAA4FE+33VUKUuydbK8Wk0dvpp5a18Nj2ljdizAo1AAAQAeodrp0ux/7tKfvsiVJPWJClHqmHh1CGticjLA81AAAQCN3qFTZzQ+PVOZeackSWMHt9eTN/aUw5eRL3AxKIAAgEbtk+2FenTZJhWfqVZwgK9euK2fru/b2uxYgEejAAIAGqWqGpf+uHqn/rJ2nyQppm2oUpPiFd0iyORkgOejAAIAGp38E+VKXpSlTfmnJEn3XtFRT1zXQ/6+dnODAV6CAggAaFRWbz2ix5ZvVmlFjUID/TR7ZIyu6RVhdizAq1AAAQCNQmWNUzNW7tDf1h+QJMW3a6YFSfGKahZocjLA+1AAAQCm219UpuRFmdp6qESS9LsrO+nRa7vLz4eRL9AQKIAAAFN9sOmwJq/YotOVNWoe5Kc5o2J1VY9ws2MBXo0CCAAwRUW1U899uF3p3+ZJkgZ1aKF5Y2LVOpSRL9DQKIAAALfbe+y0xr2VqZ0FpbLZpHE/76LfJ3aVLyNfwC0ogAAAt3on66CeemeryqucCmvqr5dHx2po11ZmxwIshQIIAHCLM1VOTXt/q5Z+d1CSNLhTS827I1bhIQEmJwOshwIIAGhwuwtLNS49UzmFp2WzSRN+0VXjr+4qH7vN7GiAJVEAAQANxjAMLdt4UFPf26qKapdaBTs0745YDekcZnY0wNIogACABlFWWaOn392qFVmHJElDu4bp5dGxCmvqMDkZAAogAKDe7ThSouT0TO09Via7TXrk2u568MrOsjPyBRoFCiAAoN4YhqFFG/L17AfbVFnjUmRIgOaPidOgji3Mjgbgv1AAAQD1orSiWk++s1UfbDosSfp591aaMypWLZr4m5wMwP+iAAIALtnWQ8VKTs/U/uPl8rXb9Niw7rp/aCdGvkAjRQEEAFw0wzD0j28OaPqHO1TldCmqWaDmj4lT//bNzY4G4EdQAAEAF6WkolqT3t6sVVsKJEmJPSM0e2Q/NQti5As0dhRAAECdbco/peRFmco/cUZ+PjZNur6nfnN5B9lsjHwBT0ABBABcMMMw9Nd1+zXzox2qdhqKbhGo1DHxioluZnY0AHVAAQQAXJBT5VV6bPlmfbK9UJJ0fZ9Izbqtn0ID/UxOBqCuKIAAgJ+UmXdS49OzdOjUGfn72DXlpp6667L2jHwBD0UBBACcl8tl6PWvcvXix7tU4zLUvmWQ0pLi1Scq1OxoAC4BBRAAcE4nyqr06LJN+mznUUnSTf1aa+atfRUcwMgX8HQUQADAD/xr/wmNT89SQUmFHL52TRveW2MGRTPyBbwEBRAAUMvlMvTqF3s155McOV2GOrVqorSkePVsHWJ2NAD1iAIIAJAkFZ2u1MQl2fpqd5Ek6da4KE0f0UdNHJwqAG/D/2oAgNbvPa4Ji7N0tLRSAX52PXdLH43s35aRL+ClKIAAYGFOl6HUz/ZoXkaOXIbUNbyp0u6MV7eIYLOjAWhAFEAAsKijpRX6/eJsfb33uCRp1IC2evbmPgr09zE5GYCGRgEEAAtau7tIv1+SpaLTVQry99EfRvTRrfFtzY4FwE0ogABgITVOl+Zl7Fbq53tkGFKPyGClJsWrS3hTs6MBcCMKIABYREFxhR5enKUN+05IkpIS2mnqTb0U4MfIF7AaCiAAWMCaXUeVsnSTTpRVqanDVzNu7aubY9qYHQuASSiAAODFqp0uvfTPHC38Yq8kqXebEKUlxatDWBOTkwEwk93sAPUpLS1NHTp0UEBAgBISErRhw4Yf3f/UqVMaN26cWrduLYfDoW7dumnVqlVuSgsADevQqTO647Vvasvf2MHt9faDQyh/ALznCuCSJUuUkpKihQsXKiEhQXPnztWwYcO0a9cuhYeH/2D/qqoqXXPNNQoPD9fy5csVFRWlAwcOqFmzZu4PDwD17NPthXp0+SadKq9WcICvXritn67v29rsWAAaCZthGIbZIepDQkKCBg4cqNTUVEmSy+VSdHS0xo8fr0mTJv1g/4ULF+rFF1/Uzp075efnd1H3WVJSotDQUBUXFyskhO/JBGC+qhqXXli9U39eu0+SFNM2VAvGxKtdyyCTkwGNB+dvLxkBV1VVaePGjUpMTKzdZrfblZiYqPXr15/zmPfff1+DBw/WuHHjFBERoT59+mjGjBlyOp3uig0A9Sr/RLlG/ml9bfn7zeUdteyBIZQ/AD/gFSPgoqIiOZ1ORUREnLU9IiJCO3fuPOcxubm5+uyzz3TnnXdq1apV2rNnjx566CFVV1dr2rRp5zymsrJSlZWVtT+XlJTU34MAgEuwemuBHlu+SaUVNQoN9NPskTG6plfETx8IwJK8ogBeDJfLpfDwcL322mvy8fFR//79dejQIb344ovnLYAzZ87Us88+6+akAHB+lTVOzVy1U29+vV+SFN+umeaPiVPb5lz1A3B+XjECDgsLk4+PjwoLC8/aXlhYqMjIyHMe07p1a3Xr1k0+Pv/5ANSePXuqoKBAVVVV5zxm8uTJKi4urr3l5+fX34MAgDo6cLxMt7+6vrb8/e7KTlryu8GUPwA/ySsKoL+/v/r376+MjIzabS6XSxkZGRo8ePA5j7n88su1Z88euVyu2m05OTlq3bq1/P39z3mMw+FQSEjIWTcAMMOHmw/rxvlrteVQsZoH+emvvx6oydf3lJ+PVzytA2hgXvNMkZKSotdff11/+9vftGPHDj344IMqKyvTPffcI0m6++67NXny5Nr9H3zwQZ04cUITJkxQTk6OVq5cqRkzZmjcuHFmPQQA+EkV1U499c4WJadn6XRljQZ2aK5VE4bqqh4//LgrADgfr3kN4OjRo3Xs2DFNnTpVBQUFio2N1erVq2vfGJKXlye7/T99Nzo6Wh9//LEmTpyofv36KSoqShMmTNATTzxh1kMAgB+199hpjXsrUzsLSmWzSeN+3kW/T+wqX676Aagjr/kcQDPwOUIA3OXdrEN68p0tKq9yqmUTf829I1ZDu7YyOxbgkTh/e9EVQADwRmeqnHrm/W1a8t33bzob3Kml5t0Rq/CQAJOTAfBkFEAAaKR2F5ZqXHqmcgpPy2aTHr66qx7+RVf52G1mRwPg4SiAANAILfsuX1Pf26Yz1U61CnZo3uhYDekSZnYsAF6CAggAjUhZZY2efm+rVmQekiQN7RqmOaNi1SrYYXIyAN6EAggAjcTOghKNeytTe4+VyW6THrm2ux68srPsjHwB1DMKIACYzDAMLflXvqa9v02VNS5FhgRo/pg4DerYwuxoALwUBRAATHS6skZPrtii9zcdliT9vHsrzRkVqxZNzv2NRABQHyiAAGCSrYeKlZyeqf3Hy+Vjt+nxYd11/9BOjHwBNDgKIAC4mWEY+sc3BzR95Q5V1bjUJjRAC5Li1b99c7OjAbAICiAAuFFJRbUmvb1Zq7YUSJISe0Zo9sh+ahbEyBeA+1AAAcBNNh88peT0LOWdKJefj01PXNdD917RUTYbI18A7kUBBIAGZhiG/rpuv2Z+tEPVTkNtmwcqNSlesdHNzI4GwKIogADQgIrLq/XY8k365/ZCSdJ1vSP1x9v7KTTQz+RkAKyMAggADSQr76SS07N06NQZ+fvYNeWmnrrrsvaMfAGYjgIIAPXM5TL0l7X79MfVO1XjMtS+ZZDSkuLVJyrU7GgAIIkCCAD16mRZlR5Ztkmf7TwqSbqpX2vNvLWvggMY+QJoPCiAAFBPvtt/QuMXZelIcYX8fe16ZnhvjRkUzcgXQKNDAQSAS+RyGXr1i72a80mOnC5DncKaKO3OePVsHWJ2NAA4JwogAFyCotOVSlm6SV/mHJMk/TIuSn8Y0UdNHDy9Ami8eIYCgIv0Te5xPbwoS0dLKxXgZ9dzt/TRyP5tGfkCaPQogABQR06XodTP9mheRo5chtQ1vKnS7oxXt4hgs6MBwAWhAAJAHRwtrdDEJdlat+e4JGlk/7Z69pbeCvLn6RSA5+AZCwAu0Lo9RZqwOFtFpysV5O+jP4zoo1vj25odCwDqjAIIAD+hxunS/IzdWvD5HhmG1CMyWKlJ8eoS3tTsaABwUSiAAPAjCksqNH5RljbsOyFJGjOonaYN76UAPx+TkwHAxaMAAsB5rNl1VClLN+lEWZWa+Pto5m39dHNMG7NjAcAlowACwP+ocbr00ic5enXNXklS7zYhSk2KV8ewJiYnA4D6QQEEgP9y+NQZPbwoS98dOClJuntwez15Q09GvgC8CgUQAP5Pxo5CPbJsk06VVyvY4as/3t5PN/RtbXYsAKh3FEAAlldV49ILq3fqz2v3SZJi2oZqwZh4tWsZZHIyAGgYFEAAlpZ/olzjF2UpO/+UJOk3l3fUpOt7yN/Xbm4wAGhAFEAAlvXxtgI9tmyTSipqFBLgq9kjY3Rt70izYwFAg6MAArCcyhqnZq7aqTe/3i9JimvXTAvGxKltc0a+AKyBAgjAUg4cL1Nyepa2HCqWJP3uZ5306LDu8vNh5AvAOiiAACxj5eYjmvT2ZpVW1qh5kJ9eGhWjq3tEmB0LANyOAgjA61VUO/WHldv1j2/yJEkDOzTX/DFxah0aaHIyADAHBRCAV8s9dlrj0rO040iJbDbpoZ931sTEbvJl5AvAwiiAALzWe9mH9OSKLSqrcqplE3+9PDpWP+vWyuxYAGA6CiAAr3OmyqlnP9imxf/KlyRd1qmF5t0Rp4iQAJOTAUDjQAEE4FX2HC3VuLeytKuwVDab9PDVXfXwL7rKx24zOxoANBoUQABeY/nGg3r63a06U+1Uq2CH5o2O1ZAuYWbHAoBGhwIIwOOVV9Xo6Xe36e3Mg5KkK7qE6eXRsWoV7DA5GQA0ThRAAB5tV0GpHnpro/YeK5PdJqVc000P/byL7Ix8AeC8KIAAPJJhGFryr3xNe3+bKmtcighxaP4dcUro1NLsaADQ6FEAAXic05U1euqdLXov+7Ak6cpurTRnVIxaNmXkCwAXggIIwKNsO1ys5PQs7Ssqk4/dpseGdddvh3Zi5AsAdUABBOARDMPQP77N0/QPt6uqxqU2oQFakBSn/u1bmB0NADwOBRBAo1dSUa3Jb2/Ryi1HJEmJPcP14u0xat7E3+RkAOCZKIAAGrXNB08pOT1LeSfK5Wu3adL1PXTvFR1lszHyBYCLRQEE0CgZhqE3v96vGat2qNppqG3zQKUmxSs2upnZ0QDA41EAATQ6xeXVevztTfp4W6Ek6brekfrj7f0UGuhncjIA8A4UQACNSlbeSSWnZ+nQqTPy97HrqRt76u7B7Rn5AkA9ogACaBQMw9Cfv9qnP67eqRqXofYtg5Q6Jl5924aaHQ0AvA4FEIDpTpZV6dFlm5Sx86gk6cZ+rTXr1r4KDmDkCwANgQIIwFTf7T+h8YuydKS4Qv6+dk0b3ktJg9ox8gWABkQBBGAKl8vQwi/36qV/5sjpMtQprIlSk+LVq02I2dEAwOtRAAG43fHTlUpZuklf5ByTJI2IbaM//LKvmjp4SgIAd7CbHaA+paWlqUOHDgoICFBCQoI2bNhwQcctXrxYNptNI0aMaNiAAPRN7nHdMP8rfZFzTAF+dr1wWz+9PDqW8gcAbuQ1BXDJkiVKSUnRtGnTlJmZqZiYGA0bNkxHjx790eP279+vRx99VEOHDnVTUsCanC5D8zN2K+n1b1RYUqku4U313rgrNGpgNK/3AwA385oCOGfOHN1///2655571KtXLy1cuFBBQUF64403znuM0+nUnXfeqWeffVadOnVyY1rAWo6WVujuN77VnE9y5DKkkf3b6v3ky9U9MtjsaABgSV5RAKuqqrRx40YlJibWbrPb7UpMTNT69evPe9xzzz2n8PBw3XvvvRd0P5WVlSopKTnrBuDHrdtTpBvmrdW6PccV6OejOaNi9OLIGAX5M/IFALN4xTNwUVGRnE6nIiIiztoeERGhnTt3nvOYtWvX6i9/+Yuys7Mv+H5mzpypZ5999lKiApbhdBmal7FbCz7bLcOQekQGKzUpXl3Cm5odDQAszyuuANZVaWmp7rrrLr3++usKCwu74OMmT56s4uLi2lt+fn4DpgQ8V2FJhZJe/0bzM74vf2MGRevdcZdT/gCgkfCKK4BhYWHy8fFRYWHhWdsLCwsVGRn5g/337t2r/fv3a/jw4bXbXC6XJMnX11e7du1S586df3Ccw+GQw+Go5/SAd/ki55gmLsnWibIqNfH30Yxb++qW2CizYwEA/otXFEB/f3/1799fGRkZtR/l4nK5lJGRoeTk5B/s36NHD23ZsuWsbVOmTFFpaanmzZun6Ohod8QGvEqN06WXPsnRq2v2SpJ6tQ5R2p3x6hjWxORkAID/5RUFUJJSUlI0duxYDRgwQIMGDdLcuXNVVlame+65R5J09913KyoqSjNnzlRAQID69Olz1vHNmjWTpB9sB/DTDp86o4cXZem7AyclSXdd1l5P3dhTAX4+JicDAJyL1xTA0aNH69ixY5o6daoKCgoUGxur1atX174xJC8vT3a7JV/yCDSoz3YWKmXpJp0qr1aww1d/vL2fbujb2uxYAIAfYTMMwzA7hKcqKSlRaGioiouLFRLC95fCWqqdLr2weqde/2qfJKlf21CljolXu5ZBJicDgB/H+duLrgACcJ/8E+UavyhL2fmnJEn3XN5Bk67vIYcvI18A8AQUQAB18vG2Aj22bJNKKmoUEuCrF0fGaFjvH77bHgDQeFEAAVyQyhqnZq7aqTe/3i9JimvXTAvGxKltc0a+AOBpKIAAftKB42VKTs/SlkPFkqTf/qyTHhvWXX4+vLEKADwRBRDAj1q5+Ygmvb1ZpZU1ah7kp5dGxejqHhE/fSAAoNGiAAI4p4pqp/6wcrv+8U2eJGlA++ZakBSn1qGBJicDAFwqCiCAH9hXVKZxb2Vq+5ESSdJDP++slGu6yZeRLwB4BQoggLO8l31IT67YorIqp1o28dec0bG6slsrs2MBAOoRBRCApO9Hvs+8v02L/5UvSbqsUwvNuyNOESEBJicDANQ3CiAA7TlaqnFvZWlXYalsNmn81V014Rdd5WO3mR0NANAAKICAxS3feFBPv7tVZ6qdCmvq0Lw7YnV5lzCzYwEAGhAFELCo8qoaPf3uNr2deVCSdHmXlnp5dKzCgxn5AoC3owACFrSroFTj0jO15+hp2W3SxMRueuiqLox8AcAiKICAhRiGoaXf5Wvqe9tUWeNSRIhD8+6I02WdWpodDQDgRhRAwCJOV9Zoyjtb9G72YUnSld1aac6oGLVs6jA5GQDA3SiAgAVsP1yi5PRM5RaVycdu06PXdtfvftZJdka+AGBJFEDAixmGobe+zdNzH25XVY1LrUMDtGBMnAZ0aGF2NACAiSiAgJcqqajW5BVbtHLzEUnSL3qEa/bIGDVv4m9yMgCA2SiAgBfacrBYyYsydeB4uXztNk26vofuvaKjbDZGvgAACiDgVQzD0N++3q8Zq3aqyulSVLNApSbFKa5dc7OjAQAaEQog4CWKy6v1+Nub9PG2QknStb0i9OLtMQoN8jM5GQCgsaEAAl4gK++kxi/K0sGTZ+TvY9eTN/TQ2CEdGPkCAM6JAgh4MMMw9Je1+zTro52qcRlq1yJIaUnx6ts21OxoAIBGjAIIeKiTZVV6dNkmZew8Kkm6sW9rzbytr0ICGPkCAH4cBRDwQBsPnND49CwdLq6Qv69dU2/qpTsT2jHyBQBcEAog4EFcLkN/+jJXs/+5S06XoY5hTZSaFKfebRj5AgAuHAUQ8BDHT1cqZekmfZFzTJJ0S2wbPf/Lvmrq4L8xAKBuOHMAHuDb3ON6eHGWCksq5fC167lbemvUgGhGvgCAi0IBBBoxp8vQK5/v0cuf5shlSF3CmyotKV7dI4PNjgYA8GAUQKCROlZaqd8vydK6PcclSbfFt9X0Eb0V5M9/WwDApeFMAjRC6/YUacLibBWdrlSgn4+mj+ij2/u3NTsWAMBLUACBRsTpMjQvY7cWfLZbhiF1jwhW2p1x6hLOyBcAUH8ogEAjUVhSoQmLs/RN7glJ0h0DozVteG8F+vuYnAwA4G0ogEAj8EXOMaUsydbxsio18ffRjFv76pbYKLNjAQC8FAUQMFGN06U5n+TolTV7JUk9W4coLSlOnVo1NTkZAMCbUQABkxw+dUYPL8rSdwdOSpLuuqy9nrqxpwL8GPkCABoWBRAwwWc7C5WydJNOlVcr2OGrWbf10439WpsdCwBgERRAwI2qnS69+PEuvfZlriSpb1SoUpPi1L5lE5OTAQCshAIIuMnBk+VKTs9Sdv4pSdKvh3TQ5Bt6yOHLyBcA4F4UQMANPt5WoMeWbVJJRY1CAnz14sgYDesdaXYsAIBFUQCBBlRV49LMj3bor+v2S5Jio5tpwZg4RbcIMjcYAMDSKIBAA8k7Xq7kRZnafLBYknT/0I56bFgP+fvaTU4GALA6CiDQAFZtOaInlm9WaWWNmgX56aWRMfpFzwizYwEAIIkCCNSrimqnnl+5Q//vmwOSpAHtm2v+mDi1aRZocjIAAP6DAgjUk31FZRr3Vqa2HymRJD34885Kuaab/HwY+QIAGhcKIFAP3ss+pCdXbFFZlVMtmvjr5dGxurJbK7NjAQBwThRA4BJUVDv17AfbtGhDviQpoWMLzR8Tp4iQAJOTAQBwfhRA4CLtOXpa497K1K7CUtls0viruujhX3SVLyNfAEAjRwEELsLbGw9qyrtbdabaqbCmDs0dHasruoaZHQsAgAtCAQTqoLyqRlPf26blGw9Kki7v0lIvj45VeDAjXwCA56AAAhcop7BU497K1O6jp2W3Sb9P7KZxV3WRj91mdjQAAOqEAgj8BMMwtPS7fE17f5sqql0KD3Zo/pg4XdappdnRAAC4KBRA4EecrqzRlHe26N3sw5Kkn3VrpTmjYhTW1GFyMgAALh4FEDiP7YdLlJyeqdyiMvnYbXrk2m564GedZWfkCwDwcBRA4H8YhqG3vs3Tcx9uV1WNS61DAzR/TJwGdmhhdjQAAOoFBRD4L6UV1Zq0YotWbj4iSbq6R7heGhmj5k38TU4GAED98apPrE1LS1OHDh0UEBCghIQEbdiw4bz7vv766xo6dKiaN2+u5s2bKzEx8Uf3h/fbcrBYNy1Yq5Wbj8jXbtNTN/TUn+8eQPkDAHgdrymAS5YsUUpKiqZNm6bMzEzFxMRo2LBhOnr06Dn3X7NmjcaMGaPPP/9c69evV3R0tK699lodOnTIzclhNsMw9Oa6fbrt1a914Hi5opoFaukDg3X/zzrxej8AgFeyGYZhmB2iPiQkJGjgwIFKTU2VJLlcLkVHR2v8+PGaNGnSTx7vdDrVvHlzpaam6u67776g+ywpKVFoaKiKi4sVEhJySflhjuIz1Xpi+Wat3lYgSbq2V4RevD1GoUF+JicDADQUzt9e8hrAqqoqbdy4UZMnT67dZrfblZiYqPXr11/Q31FeXq7q6mq1aHH+F/pXVlaqsrKy9ueSkpKLDw3TZeefUnJ6pg6ePCM/H5uevKGnfj2kg2w2rvoBALybV4yAi4qK5HQ6FRERcdb2iIgIFRQUXNDf8cQTT6hNmzZKTEw87z4zZ85UaGho7S06OvqScsMchmHoz1/l6vZXv9bBk2fUrkWQ3n5wiO65vCPlDwBgCV5RAC/VrFmztHjxYr3zzjsKCDj/d7pOnjxZxcXFtbf8/Hw3pkR9OFVepfv//p3+sHKHalyGbugbqQ8fvkL92jYzOxoAAG7jFSPgsLAw+fj4qLCw8KzthYWFioyM/NFjZ8+erVmzZunTTz9Vv379fnRfh8Mhh4NvgPBUGw+c0Pj0LB0urpC/r11P39RLv0pox1U/AIDleMUVQH9/f/Xv318ZGRm121wulzIyMjR48ODzHvfCCy9o+vTpWr16tQYMGOCOqDCBy2Xo1TV7NepP3+hwcYU6hjXROw8N0V2Xtaf8AQAsySuuAEpSSkqKxo4dqwEDBmjQoEGaO3euysrKdM8990iS7r77bkVFRWnmzJmSpD/+8Y+aOnWq0tPT1aFDh9rXCjZt2lRNmzY17XGgfh0/XalHlm3Sml3HJEk3x7TRjFv7qqnDa371AQCoM685C44ePVrHjh3T1KlTVVBQoNjYWK1evbr2jSF5eXmy2/9zwfPVV19VVVWVbr/99rP+nmnTpumZZ55xZ3Q0kG9zj+vhxVkqLKmUw9euZ2/urdEDo7nqBwCwPK/5HEAz8DlCjZPTZeiVz/fo5U9z5DKkzq2aKO3OePWI5N8IAMD5W/KiK4CAJB0rrdTEJdlau6dIknRrfJSm39JHTRj5AgBQi7MivMbXe4o0YUm2jpVWKtDPR8/d0lsjB/BZjQAA/C8KIDye02VoXsZuLfhstwxD6hbRVGlJ8eoaEWx2NAAAGiUKIDxaYUmFJizO0je5JyRJdwyM1rThvRXo72NyMgAAGi8KIDzWlznHNHFJto6XVamJv49m3NpXt8RGmR0LAIBGjwIIj1PjdGnOJzl6Zc1eSVLP1iFKS4pTp1Z8fiMAABeCAgiPcqT4jB5elKV/7T8pSbozoZ2evqmXAvwY+QIAcKEogPAYn+88qpSl2TpZXq2mDl/Nuq2vburXxuxYAAB4HAogGr1qp0uzP96lP32ZK0nqExWitKR4tW/ZxORkAAB4JgogGrWDJ8s1flGWsvJOSZJ+PaSDJt/QQw5fRr4AAFwsCiAarX9uK9Bjyzer+Ey1ggN89eLt/XRdn9ZmxwIAwONRANHoVNW4NPOjHfrruv2SpJjoZkodE6foFkHmBgMAwEtQANGo5B0vV/KiTG0+WCxJuu+Kjnr8uh7y97WbnAwAAO9BAUSjsWrLET2xfLNKK2sUGuinl0bGKLFXhNmxAADwOhRAmK6i2qnnV+7Q//vmgCSpf/vmmj8mTlHNAk1OBgCAd6IAwlT7isqUnJ6pbYdLJEkPXNlZj1zbTX4+jHwBAGgoFECY5v1NhzX57c0qq3KqRRN/zRkVo593Dzc7FgAAXo8CCLerqHbq2Q+2a9GGPEnSoI4tNP+OOEWGBpicDAAAa6AAwq32HD2t5PRM7Swolc0mJV/VRRN+0VW+jHwBAHAbCiDcZkXmQU15d6vKq5wKa+qvuaPjdEXXMLNjAQBgORRANLjyqhpNe2+blm08KEka0rml5o6OVXgII18AAMxAAUSDyiks1bi3MrX76GnZbdKEX3RT8tVd5GO3mR0NAADLogCiQRiGoWXfHdTU97eqotql8GCH5t0Rp8GdW5odDQAAy6MAot6VVdboqXe26N3sw5KkoV3D9PLoWIU1dZicDAAASBRA1LPth0uUnJ6p3KIy+dhtSrmmmx68srPsjHwBAGg0KICoF4ZhKH1Dnp79YLuqalyKDAnQgqQ4DezQwuxoAADgf1AAcclKK6o1ecUWfbj5iCTpqu6t9NKoWLVo4m9yMgAAcC4UQFySrYeKNS49UweOl8vXbtPj13XXfVd0YuQLAEAjRgHERTEMQ39ff0DPr9yhKqdLUc0CNX9MnPq3b252NAAA8BMogKiz4jPVemL5Zq3eViBJuqZXhF68vZ+aBTHyBQDAE1AAUSfZ+aeUnJ6pgyfPyM/HpsnX99Q9l3eQzcbIFwAAT0EBxAUxDEN/WbtPf1y9U9VOQ9EtApU6Jl4x0c3MjgYAAOqIAoifdKq8So8u26RPdxyVJF3fJ1Kzbuun0EA/k5MBAICLQQHEj9p44ITGp2fpcHGF/H3sevqmnvrVZe0Z+QIA4MEogDgnl8vQa1/l6sWPd8npMtShZZBSk+LVJyrU7GgAAOASUQDxA8dPV+qRZZu0ZtcxSdLwmDaa8cs+Cg5g5AsAgDegAOIsG/ad0PhFmSosqZTD165nbu6tOwZGM/IFAMCLUAAh6fuR7ytr9mjOJzlyGVKnVk2UlhSvnq1DzI4GAADqGQUQOlZaqZSl2fpqd5Ek6da4KE0f0UdNHPx6AADgjTjDW9zXe4o0YUm2jpVWKsDPrudu6aOR/dsy8gUAwItRAC3K6TI0P2O35n+2W4YhdQ1vqlfujFfXiGCzowEAgAZGAbSgoyUVenhxlr7JPSFJGjWgrZ69uY8C/X1MTgYAANyBAmgxX+Yc08Ql2TpeVqUgfx89/8s++mVcW7NjAQAAN6IAWkSN06WXP83RK2v2yjCkHpHBSrszXp1bNTU7GgAAcDMKoAUcKT6jCYuytWH/9yPfpIR2mnpTLwX4MfIFAMCKKIBe7vOdR5WyNFsny6vV1OGrmbf21fCYNmbHAgAAJqIAeqlqp0uzP96lP32ZK0nqExWi1DHx6hDWxORkAADAbBRAL3To1BmNT89UZt4pSdLYwe315I095fBl5AsAACiAXueT7YV6dNkmFZ+pVnCAr164rZ+u79va7FgAAKARoQB6iaoal2Z9tFNvrNsnSYppG6rUpHhFtwgyORkAAGhsKIBeIP9EuZLTM7XpYLEk6d4rOuqJ63rI39ducjIAANAYUQA93EdbjujxtzertKJGoYF+mj0yRtf0ijA7FgAAaMQogB6qotqpGat26O/rD0iS4ts10/wxcWrbnJEvAAD4cRRAD7S/qEzj0jO17XCJJOl3V3bSo9d2l58PI18AAPDTKIAe5v1Nh/Xkii06XVmj5kF+mjMqVlf1CDc7FgAA8CAUQA9RUe3Usx9s16INeZKkQR1aaN6YWLUODTQ5GQAA8DReNTNMS0tThw4dFBAQoISEBG3YsOFH91+2bJl69OihgIAA9e3bV6tWrXJT0rrZe+y0RqSt06INebLZpOSruij9/gTKHwAAuCheUwCXLFmilJQUTZs2TZmZmYqJidGwYcN09OjRc+7/9ddfa8yYMbr33nuVlZWlESNGaMSIEdq6daubk/+4d7IOaviCtdpZUKqwpv76+28G6dFh3eXL6/0AAMBFshmGYZgdoj4kJCRo4MCBSk1NlSS5XC5FR0dr/PjxmjRp0g/2Hz16tMrKyvThhx/WbrvssssUGxurhQsXXtB9lpSUKDQ0VMXFxQoJCamfB/J/yqtqNO29bVq28aAkaXCnlpp3R6zCQwLq9X4AALCahjx/ewqvuIxUVVWljRs3KjExsXab3W5XYmKi1q9ff85j1q9ff9b+kjRs2LDz7i9JlZWVKikpOevWEHIKS3VL6jot23hQNpv0+8Su+sd9CZQ/AABQL7yiABYVFcnpdCoi4uwPQI6IiFBBQcE5jykoKKjT/pI0c+ZMhYaG1t6io6MvPfw5pH62R7uPnlarYIfeui9Bv0/sJh+7rUHuCwAAWI9XFEB3mTx5soqLi2tv+fn5DXI/02/po9v7t9Wqh4dqSOewBrkPAABgXV7xMTBhYWHy8fFRYWHhWdsLCwsVGRl5zmMiIyPrtL8kORwOORyOSw/8E0KDvv9KNwAAgIbgFVcA/f391b9/f2VkZNRuc7lcysjI0ODBg895zODBg8/aX5I++eST8+4PAADgLbziCqAkpaSkaOzYsRowYIAGDRqkuXPnqqysTPfcc48k6e6771ZUVJRmzpwpSZowYYKuvPJKvfTSS7rxxhu1ePFifffdd3rttdfMfBgAAAANzmsK4OjRo3Xs2DFNnTpVBQUFio2N1erVq2vf6JGXlye7/T8XPIcMGaL09HRNmTJFTz75pLp27ap3331Xffr0MeshAAAAuIXXfA6gGfgcIQAAPA/nby95DSAAAAAuHAUQAADAYiiAAAAAFkMBBAAAsBgKIAAAgMVQAAEAACyGAggAAGAxFEAAAACLoQACAABYjNd8FZwZ/v0lKiUlJSYnAQAAF+rf520rfxkaBfASlJaWSpKio6NNTgIAAOqqtLRUoaGhZscwBd8FfAlcLpcOHz6s4OBg2Wy2ev27S0pKFB0drfz8fMt+T6E7sM7uwTq7B+vsHqyzezTkOhuGodLSUrVp00Z2uzVfDccVwEtgt9vVtm3bBr2PkJAQnmDcgHV2D9bZPVhn92Cd3aOh1tmqV/7+zZq1FwAAwMIogAAAABZDAWykHA6Hpk2bJofDYXYUr8Y6uwfr7B6ss3uwzu7BOjcs3gQCAABgMVwBBAAAsBgKIAAAgMVQAAEAACyGAggAAGAxFECTpKWlqUOHDgoICFBCQoI2bNjwo/svW7ZMPXr0UEBAgPr27atVq1a5Kannq8tav/766xo6dKiaN2+u5s2bKzEx8Sf/bfC9uv5O/9vixYtls9k0YsSIhg3oJeq6zqdOndK4cePUunVrORwOdevWjeePC1DXdZ47d666d++uwMBARUdHa+LEiaqoqHBTWs/05Zdfavjw4WrTpo1sNpvefffdnzxmzZo1io+Pl8PhUJcuXfTmm282eE6vZcDtFi9ebPj7+xtvvPGGsW3bNuP+++83mjVrZhQWFp5z/3Xr1hk+Pj7GCy+8YGzfvt2YMmWK4efnZ2zZssXNyT1PXdc6KSnJSEtLM7KysowdO3YYv/71r43Q0FDj4MGDbk7uWeq6zv+2b98+Iyoqyhg6dKhxyy23uCesB6vrOldWVhoDBgwwbrjhBmPt2rXGvn37jDVr1hjZ2dluTu5Z6rrOb731luFwOIy33nrL2Ldvn/Hxxx8brVu3NiZOnOjm5J5l1apVxlNPPWWsWLHCkGS88847P7p/bm6uERQUZKSkpBjbt283FixYYPj4+BirV692T2AvQwE0waBBg4xx48bV/ux0Oo02bdoYM2fOPOf+o0aNMm688caztiUkJBi/+93vGjSnN6jrWv+vmpoaIzg42Pjb3/7WUBG9wsWsc01NjTFkyBDjz3/+szF27FgK4AWo6zq/+uqrRqdOnYyqqip3RfQKdV3ncePGGVdfffVZ21JSUozLL7+8QXN6kwspgI8//rjRu3fvs7aNHj3aGDZsWAMm816MgN2sqqpKGzduVGJiYu02u92uxMRErV+//pzHrF+//qz9JWnYsGHn3R/fu5i1/l/l5eWqrq5WixYtGiqmx7vYdX7uuecUHh6ue++91x0xPd7FrPP777+vwYMHa9y4cYqIiFCfPn00Y8YMOZ1Od8X2OBezzkOGDNHGjRtrx8S5ublatWqVbrjhBrdktgrOhfXL1+wAVlNUVCSn06mIiIiztkdERGjnzp3nPKagoOCc+xcUFDRYTm9wMWv9v5544gm1adPmB086+I+LWee1a9fqL3/5i7Kzs92Q0DtczDrn5ubqs88+05133qlVq1Zpz549euihh1RdXa1p06a5I7bHuZh1TkpKUlFRka644goZhqGamho98MADevLJJ90R2TLOdy4sKSnRmTNnFBgYaFIyz8QVQOA8Zs2apcWLF+udd95RQECA2XG8Rmlpqe666y69/vrrCgsLMzuOV3O5XAoPD9drr72m/v37a/To0Xrqqae0cOFCs6N5lTVr1mjGjBl65ZVXlJmZqRUrVmjlypWaPn262dGA8+IKoJuFhYXJx8dHhYWFZ20vLCxUZGTkOY+JjIys0/743sWs9b/Nnj1bs2bN0qeffqp+/fo1ZEyPV9d13rt3r/bv36/hw4fXbnO5XJIkX19f7dq1S507d27Y0B7oYn6fW7duLT8/P/n4+NRu69mzpwoKClRVVSV/f/8GzeyJLmadn376ad1111267777JEl9+/ZVWVmZfvvb3+qpp56S3c61lvpwvnNhSEgIV/8uAr+Vbubv76/+/fsrIyOjdpvL5VJGRoYGDx58zmMGDx581v6S9Mknn5x3f3zvYtZakl544QVNnz5dq1ev1oABA9wR1aPVdZ179OihLVu2KDs7u/Z2880366qrrlJ2draio6PdGd9jXMzv8+WXX649e/bUFmxJysnJUevWrSl/53Ex61xeXv6Dkvfv0m0YRsOFtRjOhfXM7HehWNHixYsNh8NhvPnmm8b27duN3/72t0azZs2MgoICwzAM46677jImTZpUu/+6desMX19fY/bs2caOHTuMadOm8TEwF6iuaz1r1izD39/fWL58uXHkyJHaW2lpqVkPwSPUdZ3/F+8CvjB1Xee8vDwjODjYSE5ONnbt2mV8+OGHRnh4uPGHP/zBrIfgEeq6ztOmTTOCg4ONRYsWGbm5ucY///lPo3PnzsaoUaPMeggeobS01MjKyjKysrIMScacOXOMrKws48CBA4ZhGMakSZOMu+66q3b/f38MzGOPPWbs2LHDSEtL42NgLgEF0CQLFiww2rVrZ/j7+xuDBg0yvvnmm9o/u/LKK42xY8eetf/SpUuNbt26Gf7+/kbv3r2NlStXujmx56rLWrdv396Q9IPbtGnT3B/cw9T1d/q/UQAvXF3X+euvvzYSEhIMh8NhdOrUyXj++eeNmpoaN6f2PHVZ5+rqauOZZ54xOnfubAQEBBjR0dHGQw89ZJw8edL9wT3I559/fs7n23+v7dixY40rr7zyB8fExsYa/v7+RqdOnYy//vWvbs/tLWyGwfVpAAAAK+E1gAAAABZDAQQAALAYCiAAAIDFUAABAAAshgIIAABgMRRAAAAAi6EAAgAAWAwFEAAAwGIogAAAABZDAQQAALAYCiAAAIDFUAABAAAshgIIAABgMRRAAAAAi6EAAgAAWAwFEAAAwGIogAAAABZDAQQAALAYCiAAAIDFUAABAAAshgIIAABgMRRAAAAAi6EAAgAAWAwFEAAAwGIogAAAABZDAQQAALAYCiAAAIDFUAABAAAshgIIAABgMRRAAAAAi6EAAgAAWMz/B2hax30FqTn0AAAAAElFTkSuQmCC' />"
      ]
     },
     "execution_count": 21,
     "metadata": {},
     "output_type": "execute_result"
    }
   ],
   "source": [
    "%plot x displacement\n",
    "%plotc x x"
   ]
  }
 ],
 "metadata": {
  "kernelspec": {
   "display_name": "C++17",
   "language": "C++",
   "name": "cling-cpp17"
  },
  "language_info": {
   "codemirror_mode": "c++",
   "file_extension": ".c++",
   "mimetype": "text/x-c++src",
   "name": "c++"
  }
 },
 "nbformat": 4,
 "nbformat_minor": 5
}
