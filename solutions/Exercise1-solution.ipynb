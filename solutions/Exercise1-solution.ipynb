{
 "cells": [
  {
   "cell_type": "code",
   "execution_count": 1,
   "id": "sound-xerox",
   "metadata": {},
   "outputs": [
    {
     "data": {
      "text/plain": []
     },
     "execution_count": 1,
     "metadata": {},
     "output_type": "execute_result"
    }
   ],
   "source": [
    "//  Copyright (c) 2020 Patrick Diehl\n",
    "//\n",
    "//  SPDX-License-Identifier: BSL-1.0\n",
    "//  Distributed under the Boost Software License, Version 1.0. (See accompanying\n",
    "//  file LICENSE_1_0.txt or copy at http://www.boost.org/LICENSE_1_0.txt)"
   ]
  },
  {
   "cell_type": "markdown",
   "id": "congressional-korean",
   "metadata": {},
   "source": [
    "# Exercise 1: Classical linear elasticity model\n",
    "\n",
    "Let $\\Omega = (0,1) \\subset \\mathbb R$ and $\\overline{\\Omega}$ be the closure of $\\Omega$, i.e.\\ $\\Omega=[0,1]$. The continuum local problem consists in finding the displacement $(u\\in\\overline{\\Omega})$ such that:\n",
    "\\begin{align}\n",
    "\\label{eq:1dlinearelasticity}\n",
    "- E u''(x) = f_b(x), &\\quad \\forall x \\in \\Omega, \\\\\n",
    "\\label{eq:Dirichlet}\n",
    "u(x) = 0, &\\quad \\text{at}\\ x=0,\\\\\n",
    "\\label{eq:Neumann}\n",
    "Eu'(x) = g, &\\quad \\text{at}\\ x=1,\n",
    "\\end{align}\n",
    "where $E$ is the constant modulus of elasticity of the bar, $f_b=f_b(x)$ is a scalar function describing the external body force density (per unit length), and $g \\in \\mathbb R$ is the traction force applied at end point $x=1$. \n"
   ]
  },
  {
   "cell_type": "code",
   "execution_count": 2,
   "id": "scientific-mortality",
   "metadata": {},
   "outputs": [
    {
     "data": {
      "text/plain": []
     },
     "execution_count": 2,
     "metadata": {},
     "output_type": "execute_result"
    }
   ],
   "source": [
    "#include <blaze/Math.h>\n",
    "#include <BlazeIterative.hpp>\n",
    "#include <cmath>\n",
    "#include <iostream>\n",
    "#include <vector>\n",
    "#include<run_hpx.cpp>\n",
    "#include<hpx/include/lcos.hpp>\n",
    "#include<hpx/include/parallel_for_loop.hpp>"
   ]
  },
  {
   "cell_type": "markdown",
   "id": "distributed-harbor",
   "metadata": {},
   "source": [
    "## Helpfer function for Blaze\n",
    "\n",
    "[Blaze](https://bitbucket.org/blaze-lib/blaze/src/master/) is an open-source, high-performance C++ math library for dense and sparse arithmetic. This linrary has a HPX backend and utilzies the parallel algorithms to accelarted the linear algebara functions. Blaze is not covered in this cours and for more details we refer to\n",
    "\n",
    "* K. Iglberger, G. Hager, J. Treibig, and U. Rüde: High Performance Smart Expression Template Math Libraries . Proceedings of the 2nd International Workshop on New Algorithms and Programming Models for the Manycore Era (APMM 2012) at HPCS 2012\n",
    "* K. Iglberger, G. Hager, J. Treibig, and U. Rüde: Expression Templates Revisited: A Performance Analysis of Current Methodologies (Download). SIAM Journal on Scientific Computing, 34(2): C42--C69, 2012"
   ]
  },
  {
   "cell_type": "code",
   "execution_count": 3,
   "id": "conceptual-contrast",
   "metadata": {},
   "outputs": [
    {
     "data": {
      "text/plain": []
     },
     "execution_count": 3,
     "metadata": {},
     "output_type": "execute_result"
    }
   ],
   "source": [
    "// Generates a Blaze dynamic matrix of size N times N and fills the matrix with zeros\n",
    "blaze::DynamicMatrix<double> zeroMatrix(unsigned long N)\n",
    "{\n",
    "return blaze::DynamicMatrix<double>( N, N, 0 );\n",
    "};    "
   ]
  },
  {
   "cell_type": "code",
   "execution_count": 4,
   "id": "fundamental-engineering",
   "metadata": {},
   "outputs": [
    {
     "data": {
      "text/plain": []
     },
     "execution_count": 4,
     "metadata": {},
     "output_type": "execute_result"
    }
   ],
   "source": [
    "// Generates a Blaze dynamic vector of size N and fills the vector with zeros\n",
    "blaze::DynamicVector<double> zeroVector(unsigned long N)\n",
    "{\n",
    "return blaze::DynamicVector<double>(N,0);\n",
    "}; "
   ]
  },
  {
   "cell_type": "code",
   "execution_count": 5,
   "id": "lovely-designer",
   "metadata": {},
   "outputs": [
    {
     "data": {
      "text/plain": []
     },
     "execution_count": 5,
     "metadata": {},
     "output_type": "execute_result"
    }
   ],
   "source": [
    "// Solves the matrix system A \\times x = b and returns x\n",
    "blaze::DynamicVector<double> solve(blaze::DynamicMatrix<double> A, blaze::DynamicVector<double> b )\n",
    "{\n",
    "     blaze::iterative::BiCGSTABTag tag;\n",
    "     tag.do_log() = true;\n",
    "     return solve(A,b,tag);\n",
    "}"
   ]
  },
  {
   "cell_type": "markdown",
   "id": "institutional-folder",
   "metadata": {},
   "source": [
    "## Force function\n",
    "\n",
    "As the external load, a linear $force_b$ function $force : \\mathbb{R} \\rightarrow \\mathbb{R}$\n",
    "\n",
    " $$ force_b(x)  = \\begin{cases} 1, if x == 1, \\\\\n",
    " 0 , else\\end{cases}, x = [0,1]$$"
   ]
  },
  {
   "cell_type": "code",
   "execution_count": 6,
   "id": "administrative-dollar",
   "metadata": {},
   "outputs": [
    {
     "data": {
      "text/plain": []
     },
     "execution_count": 6,
     "metadata": {},
     "output_type": "execute_result"
    }
   ],
   "source": [
    "double force(double x){\n",
    "    \n",
    "    if ( x == 1 )\n",
    "        return 1;\n",
    "    \n",
    "    return 0;\n",
    "}"
   ]
  },
  {
   "cell_type": "markdown",
   "id": "chinese-cuisine",
   "metadata": {},
   "source": [
    "## Discretization\n",
    "\n",
    "As the domain $\\overline{\\Omega}$ we consider the intervall $[0,1]$ and discretize the interval with $n$ elements and using the spacing $h=\\frac{1}{n}$ such that $x={0,1\\cdot h,2\\cdot h,\\ldots,n\\cdot h}$."
   ]
  },
  {
   "cell_type": "code",
   "execution_count": 7,
   "id": "systematic-workstation",
   "metadata": {},
   "outputs": [
    {
     "data": {
      "text/plain": [
       "(unsigned long) 5\n"
      ]
     },
     "execution_count": 7,
     "metadata": {},
     "output_type": "execute_result"
    }
   ],
   "source": [
    "size_t n = std::pow(2,2);\n",
    "double h= 1./n;\n",
    "n += 1;"
   ]
  },
  {
   "cell_type": "code",
   "execution_count": 8,
   "id": "dietary-wisconsin",
   "metadata": {},
   "outputs": [
    {
     "data": {
      "text/plain": []
     },
     "execution_count": 8,
     "metadata": {},
     "output_type": "execute_result"
    }
   ],
   "source": [
    "auto x = zeroVector(n);\n",
    "for(size_t i = 0 ; i < n ; i++)\n",
    "    x[i] = i * h;"
   ]
  },
  {
   "cell_type": "code",
   "execution_count": 9,
   "id": "plastic-illinois",
   "metadata": {},
   "outputs": [
    {
     "name": "stdout",
     "output_type": "stream",
     "text": [
      "(           0 )\n",
      "(        0.25 )\n",
      "(         0.5 )\n",
      "(        0.75 )\n",
      "(           1 )\n"
     ]
    },
    {
     "data": {
      "text/plain": [
       "(std::ostream &) @0x7fce872e3500\n"
      ]
     },
     "execution_count": 9,
     "metadata": {},
     "output_type": "execute_result"
    }
   ],
   "source": [
    "// Print the discrete nodes\n",
    "std::cout << x ;"
   ]
  },
  {
   "cell_type": "markdown",
   "id": "talented-factor",
   "metadata": {},
   "source": [
    "<span style=\"color:blue\">Task 1: Replace the for loop in Cell 11 with the hpx::for loop to fill the right-hand side $f$ in parrallel in Cell 12</span>.\n"
   ]
  },
  {
   "cell_type": "markdown",
   "id": "occupational-velvet",
   "metadata": {},
   "source": [
    "## Prepare the external load"
   ]
  },
  {
   "cell_type": "code",
   "execution_count": 10,
   "id": "cellular-jacksonville",
   "metadata": {},
   "outputs": [
    {
     "data": {
      "text/plain": []
     },
     "execution_count": 10,
     "metadata": {},
     "output_type": "execute_result"
    }
   ],
   "source": [
    "// Get the force vector for the right-hand side\n",
    "auto f = zeroVector(n);"
   ]
  },
  {
   "cell_type": "code",
   "execution_count": 11,
   "id": "complex-forty",
   "metadata": {},
   "outputs": [
    {
     "data": {
      "text/plain": []
     },
     "execution_count": 11,
     "metadata": {},
     "output_type": "execute_result"
    }
   ],
   "source": [
    "/*\n",
    "for(size_t i = 0 ; i < n  ; i++)\n",
    " {\n",
    "  f[i] = force(x[i]);   \n",
    " }\n",
    "*/"
   ]
  },
  {
   "cell_type": "code",
   "execution_count": 12,
   "id": "conditional-fireplace",
   "metadata": {},
   "outputs": [
    {
     "data": {
      "text/plain": [
       "(void) @0x7fce7831ce48\n"
      ]
     },
     "execution_count": 12,
     "metadata": {},
     "output_type": "execute_result"
    }
   ],
   "source": [
    "run_hpx([](){\n",
    "\n",
    "hpx::for_loop(\n",
    "\thpx::execution::par, \n",
    "\t0, \n",
    "\tn,\n",
    "\t[&](boost::uint64_t i)\n",
    "\t\t{\n",
    "\t\t   f[i] = force(x[i]); \n",
    "\t\t}\n",
    "\t);\n",
    "});"
   ]
  },
  {
   "cell_type": "code",
   "execution_count": 13,
   "id": "final-detector",
   "metadata": {},
   "outputs": [
    {
     "name": "stdout",
     "output_type": "stream",
     "text": [
      "(           0 )\n",
      "(           0 )\n",
      "(           0 )\n",
      "(           0 )\n",
      "(           1 )\n"
     ]
    },
    {
     "data": {
      "text/plain": [
       "(std::ostream &) @0x7fce872e3500\n"
      ]
     },
     "execution_count": 13,
     "metadata": {},
     "output_type": "execute_result"
    }
   ],
   "source": [
    "// Print the force vector\n",
    "std::cout << f ;"
   ]
  },
  {
   "cell_type": "markdown",
   "id": "multiple-slave",
   "metadata": {},
   "source": [
    "### Assemble the stiffness matrix using finite differences\n",
    "\n",
    "\n",
    "1. Dirichlet boundary condition at $x=0$:\n",
    "\\begin{equation}\n",
    "u_1 = 0.\n",
    "\\end{equation}\n",
    "2. Finite difference schems for \n",
    "In $\\overline{\\Omega}$: \n",
    "$\\forall i=2,\\ldots,n-1$:\n",
    "\\begin{equation}\n",
    "- E \\frac{u_{i-1}-2u_i+u_{i+1}}{h^2} = f_b(x_k).\n",
    "\\end{equation}\n",
    "3. Neumann boundary condition at $x=1$:\n",
    "\\begin{equation}\n",
    "E \\frac{u_{n-3}-4u_{n-2}+3u_n-1}{2h} = g.\n",
    "\\end{equation}\n",
    "\n",
    "For simplicity we assume $E=1$.\n",
    "\n"
   ]
  },
  {
   "cell_type": "markdown",
   "id": "distinguished-eating",
   "metadata": {},
   "source": [
    "<span style=\"color:blue\">Task 2: Use aysnchronous programming to assemble the stiffness matrix using hpx::async and hpx::future</span>.\n",
    "\n",
    "1. Finish the function assemble to fill the matrix from start to end in Cell 16\n",
    "2. Generate a vector of hpx::futures<void> to collect all future for synchronization in Cell 17\n",
    "3. Use hpx::async to execute the function assemble asynchronously in Cell 17\n",
    "4. Use hpx::wait_all to syncrhonize the results in Cell 17"
   ]
  },
  {
   "cell_type": "code",
   "execution_count": 14,
   "id": "fossil-strength",
   "metadata": {},
   "outputs": [
    {
     "data": {
      "text/plain": []
     },
     "execution_count": 14,
     "metadata": {},
     "output_type": "execute_result"
    }
   ],
   "source": [
    "// Get the stiffness matrix filled with zeros\n",
    "auto matrix = zeroMatrix(n);"
   ]
  },
  {
   "cell_type": "code",
   "execution_count": 15,
   "id": "perfect-gabriel",
   "metadata": {},
   "outputs": [
    {
     "data": {
      "text/plain": []
     },
     "execution_count": 15,
     "metadata": {},
     "output_type": "execute_result"
    }
   ],
   "source": [
    "/*\n",
    "matrix(0,0) = 1;\n",
    "for(size_t i = 1 ; i < n-1 ; i++){\n",
    "    matrix(i,i-1) = -2;\n",
    "    matrix(i,i) = 4;\n",
    "    matrix(i,i+1) = -2;\n",
    "    }\n",
    "\n",
    "matrix(n-1,n-1) = 3*h;\n",
    "matrix(n-1,n-2) = -4*h;    \n",
    "matrix(n-1,n-3) = h;\n",
    "\n",
    "matrix *= 1./(2*h*h);\n",
    "*/"
   ]
  },
  {
   "cell_type": "code",
   "execution_count": 16,
   "id": "applicable-clearing",
   "metadata": {},
   "outputs": [
    {
     "data": {
      "text/plain": []
     },
     "execution_count": 16,
     "metadata": {},
     "output_type": "execute_result"
    }
   ],
   "source": [
    "// Assmeble the part of the stiffness matrix where the index goes from start to end\n",
    "void assemble(blaze::DynamicMatrix<double>* matrix, size_t start, size_t end)\n",
    "{\n",
    "    \n",
    "    for(size_t i = start ; i < end ; i++)\n",
    "    {\n",
    "        (*matrix)(i,i-1) = -2;\n",
    "        (*matrix)(i,i) = 4;\n",
    "        (*matrix)(i,i+1) = -2;\n",
    "    }\n",
    "}"
   ]
  },
  {
   "cell_type": "code",
   "execution_count": 17,
   "id": "confidential-macintosh",
   "metadata": {},
   "outputs": [
    {
     "data": {
      "text/plain": [
       "(void) @0x7fce7831ce48\n"
      ]
     },
     "execution_count": 17,
     "metadata": {},
     "output_type": "execute_result"
    }
   ],
   "source": [
    "run_hpx([&](){\n",
    "\n",
    "matrix(0,0) = 1;\n",
    "\n",
    "std::vector<hpx::future<void>> futures;\n",
    "\n",
    "futures.push_back(hpx::async(assemble,&matrix,1,std::round(float(n)/2)));\n",
    "futures.push_back(hpx::async(assemble,&matrix,std::round(float(n)/2),n-1));\n",
    "\n",
    "hpx::wait_all(futures);\n",
    "\n",
    "matrix(n-1,n-1) = 3*h;\n",
    "matrix(n-1,n-2) = -4*h;    \n",
    "matrix(n-1,n-3) = h;\n",
    "    \n",
    "    \n",
    "matrix *= 1./(2.*h*h);\n",
    "    \n",
    "});"
   ]
  },
  {
   "cell_type": "code",
   "execution_count": 18,
   "id": "twenty-monaco",
   "metadata": {},
   "outputs": [
    {
     "name": "stdout",
     "output_type": "stream",
     "text": [
      "(            8            0            0            0            0 )\n",
      "(          -16           32          -16            0            0 )\n",
      "(            0          -16           32          -16            0 )\n",
      "(            0            0          -16           32          -16 )\n",
      "(            0            0            2           -8            6 )\n"
     ]
    },
    {
     "data": {
      "text/plain": [
       "(std::ostream &) @0x7fce872e3500\n"
      ]
     },
     "execution_count": 18,
     "metadata": {},
     "output_type": "execute_result"
    }
   ],
   "source": [
    "std::cout << matrix ;"
   ]
  },
  {
   "cell_type": "code",
   "execution_count": 19,
   "id": "nuclear-journal",
   "metadata": {},
   "outputs": [
    {
     "data": {
      "text/plain": []
     },
     "execution_count": 19,
     "metadata": {},
     "output_type": "execute_result"
    }
   ],
   "source": [
    "// Solve the matrix system matrix times displacement - f\n",
    "auto displacement = solve(matrix,f);"
   ]
  },
  {
   "cell_type": "code",
   "execution_count": 20,
   "id": "artistic-edgar",
   "metadata": {},
   "outputs": [
    {
     "name": "stdout",
     "output_type": "stream",
     "text": [
      "(           0 )\n",
      "(        0.25 )\n",
      "(         0.5 )\n",
      "(        0.75 )\n",
      "(           1 )\n"
     ]
    },
    {
     "data": {
      "text/plain": [
       "(std::ostream &) @0x7fce872e3500\n"
      ]
     },
     "execution_count": 20,
     "metadata": {},
     "output_type": "execute_result"
    }
   ],
   "source": [
    "std::cout << displacement;"
   ]
  },
  {
   "cell_type": "markdown",
   "id": "equal-ukraine",
   "metadata": {},
   "source": [
    "# Doing python plots from C++ \n",
    "\n",
    "Doing plots in Python is quite convinent using [matplotlib](https://matplotlib.org/), however, plotting in C++ is a little bit more tricky since we need to write the data as a CSV file and use Python or Matplotlib to plot it. The notebooks have some magic implemented to plot C++ variables directly in Python's matplotlib. \n",
    "\n",
    "Below we use %plot x y to plot a new line and we can repeat this command to add new lines to the same plot. Using %plotc x y will plot all previous added lines and clear the figure."
   ]
  },
  {
   "cell_type": "code",
   "execution_count": 21,
   "id": "bridal-median",
   "metadata": {},
   "outputs": [
    {
     "data": {
      "text/plain": [
       "x shape is (5,)displacement shape is (5,)"
      ]
     },
     "execution_count": 21,
     "metadata": {},
     "output_type": "execute_result"
    }
   ],
   "source": [
    "%data x displacement"
   ]
  },
  {
   "cell_type": "code",
   "execution_count": 22,
   "id": "dying-snake",
   "metadata": {},
   "outputs": [
    {
     "data": {
      "text/html": [
       "<pre>\n",
       "</pre><img src='data:image/png;base64,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' />"
      ]
     },
     "execution_count": 22,
     "metadata": {},
     "output_type": "execute_result"
    }
   ],
   "source": [
    "%%plot\n",
    "plt.xlabel(\"Position\")\n",
    "plt.ylabel(\"Displacement\")\n",
    "plt.plot(x,displacement,label=\"Simulation\")\n",
    "plt.plot(x,x,label=\"Exact solution\")\n",
    "plt.grid()\n",
    "plt.legend()"
   ]
  }
 ],
 "metadata": {
  "kernelspec": {
   "display_name": "C++17",
   "language": "C++",
   "name": "cling-cpp17"
  },
  "language_info": {
   "codemirror_mode": "c++",
   "file_extension": ".c++",
   "mimetype": "text/x-c++src",
   "name": "c++"
  }
 },
 "nbformat": 4,
 "nbformat_minor": 5
}
