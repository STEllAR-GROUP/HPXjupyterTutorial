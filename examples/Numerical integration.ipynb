{
 "cells": [
  {
   "cell_type": "code",
   "execution_count": 9,
   "metadata": {},
   "outputs": [
    {
     "data": {
      "text/plain": []
     },
     "execution_count": 9,
     "metadata": {},
     "output_type": "execute_result"
    }
   ],
   "source": [
    "//  Copyright (c) 2020 Patrick Diehl\n",
    "//\n",
    "//  SPDX-License-Identifier: BSL-1.0\n",
    "//  Distributed under the Boost Software License, Version 1.0. (See accompanying\n",
    "//  file LICENSE_1_0.txt or copy at http://www.boost.org/LICENSE_1_0.txt)"
   ]
  },
  {
   "cell_type": "code",
   "execution_count": 10,
   "metadata": {},
   "outputs": [
    {
     "data": {
      "text/plain": []
     },
     "execution_count": 10,
     "metadata": {},
     "output_type": "execute_result"
    }
   ],
   "source": [
    "#include <iostream>\n",
    "#include<run_hpx.cpp>\n",
    "#include<hpx/include/lcos.hpp>\n",
    "#include<hpx/include/parallel_for_loop.hpp>\n",
    "#include<atomic>"
   ]
  },
  {
   "cell_type": "markdown",
   "metadata": {},
   "source": [
    "# Numerical integration"
   ]
  },
  {
   "cell_type": "markdown",
   "metadata": {},
   "source": [
    "The trapezoidal rule can be used to approximate the definite integral\n",
    "\\begin{align*}\n",
    "\\int\\limits_a^b f(x) dx \\approx \\frac{h}{2} \\sum\\limits_{k=1}^N (f(x_{k-1}) + f(x_k))\n",
    "\\end{align*}\n",
    "assuming a uniform grid in the interval $[a,b]$ with the grid size $h=\\frac{b-a}{N}$."
   ]
  },
  {
   "cell_type": "markdown",
   "metadata": {},
   "source": [
    "### Define the function $f(x)=x^2$ to integrate"
   ]
  },
  {
   "cell_type": "code",
   "execution_count": 11,
   "metadata": {},
   "outputs": [
    {
     "name": "stderr",
     "output_type": "stream",
     "text": [
      "input_line_14:1:8: error: redefinition of 'f'\n",
      "double f(double x){\n",
      "       ^\n",
      "input_line_5:1:8: note: previous definition is here\n",
      "double f(double x){\n",
      "       ^\n"
     ]
    },
    {
     "data": {
      "text/plain": []
     },
     "execution_count": 11,
     "metadata": {},
     "output_type": "execute_result"
    }
   ],
   "source": [
    "double f(double x){\n",
    "    return x*x;\n",
    "}"
   ]
  },
  {
   "cell_type": "markdown",
   "metadata": {},
   "source": [
    "### Define the integration interval"
   ]
  },
  {
   "cell_type": "code",
   "execution_count": 12,
   "metadata": {},
   "outputs": [
    {
     "name": "stderr",
     "output_type": "stream",
     "text": [
      "input_line_14:2:9: error: redefinition of 'N'\n",
      " size_t N = 100;\n",
      "        ^\n",
      "input_line_6:2:9: note: previous definition is here\n",
      " size_t N = 100;\n",
      "        ^\n"
     ]
    },
    {
     "data": {
      "text/plain": []
     },
     "execution_count": 12,
     "metadata": {},
     "output_type": "execute_result"
    }
   ],
   "source": [
    "size_t N = 100;\n",
    "double a = 0;\n",
    "double b = 2;\n",
    "\n",
    "double h = (b-a) / N;"
   ]
  },
  {
   "cell_type": "markdown",
   "metadata": {},
   "source": [
    "# Serial implementation of the integration"
   ]
  },
  {
   "cell_type": "code",
   "execution_count": 13,
   "metadata": {},
   "outputs": [
    {
     "name": "stderr",
     "output_type": "stream",
     "text": [
      "input_line_14:2:9: error: redefinition of 'area'\n",
      " double area = 0; \n",
      "        ^\n",
      "input_line_7:2:9: note: previous definition is here\n",
      " double area = 0; \n",
      "        ^\n"
     ]
    },
    {
     "data": {
      "text/plain": []
     },
     "execution_count": 13,
     "metadata": {},
     "output_type": "execute_result"
    }
   ],
   "source": [
    "double area = 0; \n",
    "\n",
    "for(size_t i = 1; i <= N; i++){\n",
    "    \n",
    "    area += f(h*(i-1))+f(h*i);\n",
    "    \n",
    "}\n",
    "\n",
    "area *= h/2;\n",
    "\n",
    "std::cout << area << std::endl;"
   ]
  },
  {
   "cell_type": "markdown",
   "metadata": {},
   "source": [
    "## Parallel implementation I (parallel algorithms)"
   ]
  },
  {
   "cell_type": "code",
   "execution_count": 14,
   "metadata": {},
   "outputs": [
    {
     "name": "stdout",
     "output_type": "stream",
     "text": [
      "1.36113e+33\n"
     ]
    },
    {
     "data": {
      "text/plain": [
       "(void) @0x7fd7bcf5ee48\n"
      ]
     },
     "execution_count": 14,
     "metadata": {},
     "output_type": "execute_result"
    }
   ],
   "source": [
    "run_hpx([](){\n",
    "\n",
    "double area = 0;\n",
    "hpx::lcos::local::mutex m;\n",
    "\n",
    "hpx::for_loop(\n",
    "\thpx::execution::par, \n",
    "\t0, \n",
    "\tN,\n",
    "\t[&](boost::uint64_t i)\n",
    "\t\t{\n",
    "            m.lock();\n",
    "\t\t    area += f(h*(i-1))+f(h*i);\n",
    "            m.unlock();\n",
    "\t\t}\n",
    "\t);\n",
    "\n",
    "area = area * h /2 ;\n",
    "\n",
    "std::cout << area << std::endl;\n",
    "\n",
    "});"
   ]
  },
  {
   "cell_type": "markdown",
   "metadata": {},
   "source": [
    "## Parallel implementation II (futurization)"
   ]
  },
  {
   "cell_type": "code",
   "execution_count": 15,
   "metadata": {},
   "outputs": [
    {
     "name": "stderr",
     "output_type": "stream",
     "text": [
      "input_line_15:1:8: error: redefinition of 'integrate'\n",
      "double integrate(size_t begin, size_t end,double h){\n",
      "       ^\n",
      "input_line_10:1:8: note: previous definition is here\n",
      "double integrate(size_t begin, size_t end,double h){\n",
      "       ^\n"
     ]
    },
    {
     "data": {
      "text/plain": []
     },
     "execution_count": 15,
     "metadata": {},
     "output_type": "execute_result"
    }
   ],
   "source": [
    "double integrate(size_t begin, size_t end,double h){\n",
    " \n",
    "    double area = 0;\n",
    "    \n",
    "    \n",
    "    for(size_t i = begin; i <= end; i++){\n",
    "         area += f(h*(i-1))+f(h*i);\n",
    "    } \n",
    "    \n",
    "    return area;\n",
    "}"
   ]
  },
  {
   "cell_type": "code",
   "execution_count": 16,
   "metadata": {},
   "outputs": [
    {
     "name": "stdout",
     "output_type": "stream",
     "text": [
      "2.6668\n"
     ]
    },
    {
     "data": {
      "text/plain": [
       "(void) @0x7fd7bcf5ee48\n"
      ]
     },
     "execution_count": 16,
     "metadata": {},
     "output_type": "execute_result"
    }
   ],
   "source": [
    "run_hpx([](){\n",
    "\n",
    "auto f1 = hpx::async(integrate,1,49,h);\n",
    "auto f2 = hpx::async(integrate,50,100,h);\n",
    "\n",
    "std::cout << h/2*(f1.get() + f2.get()) << std::endl;\n",
    "\n",
    "});"
   ]
  }
 ],
 "metadata": {
  "kernelspec": {
   "display_name": "C++17",
   "language": "C++",
   "name": "cling-cpp17"
  },
  "language_info": {
   "codemirror_mode": "c++",
   "file_extension": ".c++",
   "mimetype": "text/x-c++src",
   "name": "c++"
  }
 },
 "nbformat": 4,
 "nbformat_minor": 2
}
