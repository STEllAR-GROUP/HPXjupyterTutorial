{
 "cells": [
  {
   "cell_type": "markdown",
   "id": "interim-brick",
   "metadata": {
    "slideshow": {
     "slide_type": "slide"
    }
   },
   "source": [
    "# Asynchronous computing and parallel algorithms\n",
    "\n",
    "* Asynchronous programming using std::async and std::future\n",
    "* Asynchronous programming using hpx::async and hpx::future\n",
    "* Experimental support of the parallel algorithms in GCC and MSVC\n",
    "* Full support of parallel algorithms in HPX"
   ]
  },
  {
   "cell_type": "markdown",
   "id": "smoking-fifteen",
   "metadata": {
    "slideshow": {
     "slide_type": "slide"
    }
   },
   "source": [
    "## Asynchronous programming using std::async and std::future\n",
    "\n",
    "Documentation:\n",
    "* [std::future](https://en.cppreference.com/w/cpp/thread/future) \n",
    "* [std::async](https://en.cppreference.com/w/cpp/thread/async)\n",
    "\n",
    "Book:\n",
    "\n",
    "* Williams, Anthony.C++ concurrency in action : practical multithreading. Shelter Island, NY:Manning, 2012.isbn: 9781933988771.\n"
   ]
  },
  {
   "cell_type": "code",
   "execution_count": 1,
   "id": "ace8e738",
   "metadata": {
    "slideshow": {
     "slide_type": "slide"
    }
   },
   "outputs": [
    {
     "data": {
      "text/plain": [
       "file written: example.cpp"
      ]
     },
     "execution_count": 1,
     "metadata": {},
     "output_type": "execute_result"
    }
   ],
   "source": [
    "%%writefile example.cpp\n",
    "#include <future>\n",
    "#include <iostream>\n",
    "\n",
    "int add(int a, int b)\n",
    "{\n",
    "    return a + b;\n",
    "}\n",
    "\n",
    "int main(void)\n",
    "{\n",
    "int a = 5;\n",
    "int b = 5;\n",
    "std::future<int> result = std::async(add,a,b);\n",
    "\n",
    "std::cout<< result.get() << std::endl;\n",
    "\n",
    "return EXIT_SUCCESS;\n",
    "}"
   ]
  },
  {
   "cell_type": "markdown",
   "id": "8752e030",
   "metadata": {
    "slideshow": {
     "slide_type": "subslide"
    }
   },
   "source": [
    "### Compilation\n",
    "\n",
    "We need to add `-phtread` for the asyncronous execution"
   ]
  },
  {
   "cell_type": "code",
   "execution_count": 2,
   "id": "608525e5",
   "metadata": {
    "slideshow": {
     "slide_type": "fragment"
    }
   },
   "outputs": [
    {
     "data": {
      "text/html": [
       "<pre></pre><pre style=\"color: red\"></pre>"
      ]
     },
     "execution_count": 2,
     "metadata": {},
     "output_type": "execute_result"
    }
   ],
   "source": [
    "%%bash\n",
    "g++ example.cpp -pthread -o example"
   ]
  },
  {
   "cell_type": "markdown",
   "id": "fe41a853",
   "metadata": {
    "slideshow": {
     "slide_type": "fragment"
    }
   },
   "source": [
    "### Exectution"
   ]
  },
  {
   "cell_type": "code",
   "execution_count": 3,
   "id": "19eaa9af",
   "metadata": {
    "slideshow": {
     "slide_type": "fragment"
    }
   },
   "outputs": [
    {
     "data": {
      "text/html": [
       "<pre>10\n",
       "</pre><pre style=\"color: red\"></pre>"
      ]
     },
     "execution_count": 3,
     "metadata": {},
     "output_type": "execute_result"
    }
   ],
   "source": [
    "%%bash\n",
    "./example"
   ]
  },
  {
   "cell_type": "markdown",
   "id": "b3ed5d62",
   "metadata": {
    "slideshow": {
     "slide_type": "slide"
    }
   },
   "source": [
    "## Asynchronous programming using hpx::async and hpx::future\n"
   ]
  },
  {
   "cell_type": "code",
   "execution_count": 4,
   "id": "02cb74f9",
   "metadata": {
    "slideshow": {
     "slide_type": "fragment"
    }
   },
   "outputs": [
    {
     "data": {
      "text/plain": []
     },
     "execution_count": 4,
     "metadata": {},
     "output_type": "execute_result"
    }
   ],
   "source": [
    "#include<run_hpx.cpp>\n",
    "#include <hpx/future.hpp>\n",
    "#include <iostream>"
   ]
  },
  {
   "cell_type": "code",
   "execution_count": 5,
   "id": "b20ae4bf",
   "metadata": {
    "slideshow": {
     "slide_type": "fragment"
    }
   },
   "outputs": [
    {
     "data": {
      "text/plain": []
     },
     "execution_count": 5,
     "metadata": {},
     "output_type": "execute_result"
    }
   ],
   "source": [
    "int add(int a, int b)\n",
    "{\n",
    "    return a + b;\n",
    "}"
   ]
  },
  {
   "cell_type": "code",
   "execution_count": 6,
   "id": "0b58d01d",
   "metadata": {
    "slideshow": {
     "slide_type": "fragment"
    }
   },
   "outputs": [
    {
     "name": "stdout",
     "output_type": "stream",
     "text": [
      "10"
     ]
    },
    {
     "data": {
      "text/plain": [
       "(void) @0x7fbcc7c35e60\n"
      ]
     },
     "execution_count": 6,
     "metadata": {},
     "output_type": "execute_result"
    }
   ],
   "source": [
    "run_hpx([](){\n",
    "\n",
    "hpx::lcos::future<int> result = hpx::async(add,5,5);\n",
    "\n",
    "std::cout << result.get() ;\n",
    "\n",
    "});"
   ]
  },
  {
   "cell_type": "markdown",
   "id": "14240fa7",
   "metadata": {
    "slideshow": {
     "slide_type": "slide"
    }
   },
   "source": [
    "### Example Numerical integration\n",
    "\n",
    "\n",
    "For this example the Taylor series for the $\\sin(x)$\n",
    "function is computed. The Taylor series is given by,\n",
    "\n",
    "$$ \\sin(x) \\approx = \\sum\\limits_{n=0}^N (-1)^{n-1} \\frac{x^{2n}}{(2n)!}.$$\n",
    "\n",
    "For the concurrent computation, the interval $[0, N]$ is split in two\n",
    "partitions from $[0, N/2]$ and $[(N/2)+1, N]$, and these are computed\n",
    "asynchronously using `hpx::async`. Note that each asynchronous function call\n",
    "returns an `hpx::future` which is needed to synchronize the collection\n",
    "of the partial results. "
   ]
  },
  {
   "cell_type": "code",
   "execution_count": 7,
   "id": "7acf4563",
   "metadata": {
    "slideshow": {
     "slide_type": "skip"
    }
   },
   "outputs": [
    {
     "data": {
      "text/plain": []
     },
     "execution_count": 7,
     "metadata": {},
     "output_type": "execute_result"
    }
   ],
   "source": [
    "long fact(long n) {\n",
    "   if (n == 0 || n == 1)\n",
    "   return 1;\n",
    "   else\n",
    "   return n * fact(n - 1);\n",
    "}\n",
    "\n"
   ]
  },
  {
   "cell_type": "code",
   "execution_count": 8,
   "id": "49af0f64",
   "metadata": {
    "slideshow": {
     "slide_type": "slide"
    }
   },
   "outputs": [
    {
     "data": {
      "text/plain": []
     },
     "execution_count": 8,
     "metadata": {},
     "output_type": "execute_result"
    }
   ],
   "source": [
    "#include <cmath>\n",
    "\n",
    "// Define the partial taylor function\n",
    "double taylor(size_t begin, size_t end, size_t n, double x)\n",
    "{\n",
    " double denom = fact(2 * n);\n",
    " double res = 0;\n",
    " for (size_t i = begin; i != end; ++i)\n",
    " {\n",
    " res += std::pow(-1, i - 1) * std::pow(x, 2 * n) / denom;\n",
    " }\n",
    " return res;\n",
    "}"
   ]
  },
  {
   "cell_type": "code",
   "execution_count": 9,
   "id": "b14b74b5",
   "metadata": {
    "slideshow": {
     "slide_type": "slide"
    }
   },
   "outputs": [
    {
     "name": "stdout",
     "output_type": "stream",
     "text": [
      "Sin(2.) = -0.000691055\n"
     ]
    },
    {
     "data": {
      "text/plain": [
       "(void) @0x7fbcc7c35e60\n"
      ]
     },
     "execution_count": 9,
     "metadata": {},
     "output_type": "execute_result"
    }
   ],
   "source": [
    "run_hpx([](){\n",
    "\n",
    "// Compute the Talor series sin(2.0) for 25 iterations\n",
    "size_t n = 25;\n",
    "\n",
    "// Launch two concurrent computations of each partial result\n",
    "hpx::future<double> f1 = hpx::async(taylor, 0, n / 2, n, 2.);\n",
    "hpx::future<double> f2 = hpx::async(taylor, (n / 2) + 1, n, n, 2.);\n",
    "\n",
    "// Introduce a barrier to gather the results\n",
    "double res = f1.get() + f2.get();\n",
    "\n",
    "// Print the result\n",
    "std::cout << \"Sin(2.) = \" << res << std::endl;\n",
    "\n",
    "});"
   ]
  },
  {
   "cell_type": "markdown",
   "id": "54e5fb18",
   "metadata": {
    "slideshow": {
     "slide_type": "slide"
    }
   },
   "source": [
    "\n",
    "![alt text](https://www.memesmonkey.com/images/memesmonkey/fd/fd382388e9c6585ee8f9c7a12533f2f6.jpeg \"Title\")\n",
    "\n",
    "\n",
    "\n"
   ]
  },
  {
   "cell_type": "markdown",
   "id": "9e0faca7",
   "metadata": {
    "slideshow": {
     "slide_type": "slide"
    }
   },
   "source": [
    "## Experimental support of the parallel algorithms in GCC and MSVC\n",
    "\n",
    "* C++17 added support for parallel algorithms to thestandard library, to help programs take advantage ofparallel execution for improved performance.\n",
    "* Parallelized versions of 69 algorithms from <algorithm>, <numeric> and <memory> are available\n",
    "* Only recently released compilers (gcc >= 9 and MSVC >= 19.14) 1implement these new features and some of them are still experimental\n",
    "\n",
    "Links:\n",
    "* [Compiler support](https://en.cppreference.com/w/cpp/compiler_support)\n",
    "* [Parallelism in C++ 17](https://en.cppreference.com/w/cpp/experimental/parallelism)\n",
    "\n"
   ]
  },
  {
   "cell_type": "markdown",
   "id": "009f4ee3",
   "metadata": {
    "slideshow": {
     "slide_type": "slide"
    }
   },
   "source": [
    "### Example \n",
    "\n",
    "We want to compute the sum of all elements in some `std::vector` n \n",
    "\n",
    "$$ \\sum_{i=0}^N r+= n[i] $$\n",
    "\n",
    "in sequential and parallel using the C++ Standard template library without using any `for` loop.\n",
    "\n",
    "Links:\n",
    "\n",
    "* [std::vector](https://en.cppreference.com/w/cpp/container/vector)\n",
    "* [std::iterators](https://en.cppreference.com/w/cpp/iterator/iterator)\n",
    "* [std::fill](https://en.cppreference.com/w/cpp/algorithm/fill)\n",
    "* [std::accumulate](https://en.cppreference.com/w/cpp/algorithm/accumulate)\n",
    "* [std::reduce](https://en.cppreference.com/w/cpp/algorithm/reduce)"
   ]
  },
  {
   "cell_type": "markdown",
   "id": "3ba31863",
   "metadata": {
    "slideshow": {
     "slide_type": "slide"
    }
   },
   "source": [
    "#### Naive implementation"
   ]
  },
  {
   "cell_type": "code",
   "execution_count": 11,
   "id": "fbfc1e9f",
   "metadata": {
    "slideshow": {
     "slide_type": "fragment"
    }
   },
   "outputs": [
    {
     "name": "stdout",
     "output_type": "stream",
     "text": [
      "Result= -1000000000\n"
     ]
    },
    {
     "data": {
      "text/plain": [
       "(std::basic_ostream<char, std::char_traits<char> >::__ostream_type &) @0x7fbcd9436500\n"
      ]
     },
     "execution_count": 11,
     "metadata": {},
     "output_type": "execute_result"
    }
   ],
   "source": [
    "size_t len = 1000000000;\n",
    "std::vector<int> n = std::vector<int>(len);\n",
    "\n",
    "for (size_t i = 0; i < n.size(); i++)\n",
    "n[i] = -1;\n",
    "\n",
    "int result = 0;\n",
    "\n",
    "for (size_t i = 0; i < n.size(); i++)\n",
    "\n",
    "result += n[i];\n",
    "\n",
    "std::cout << \"Result= \" << result << std::endl;\n"
   ]
  },
  {
   "cell_type": "markdown",
   "id": "f9b0012c",
   "metadata": {
    "slideshow": {
     "slide_type": "slide"
    }
   },
   "source": [
    "#### Implementation using the C++ STL sequential algorithms"
   ]
  },
  {
   "cell_type": "code",
   "execution_count": 12,
   "id": "574ecf74",
   "metadata": {
    "slideshow": {
     "slide_type": "fragment"
    }
   },
   "outputs": [
    {
     "name": "stdout",
     "output_type": "stream",
     "text": [
      "Result= -1000000000\n"
     ]
    },
    {
     "data": {
      "text/plain": [
       "(std::basic_ostream<char, std::char_traits<char> >::__ostream_type &) @0x7fbcd9436500\n"
      ]
     },
     "execution_count": 12,
     "metadata": {},
     "output_type": "execute_result"
    }
   ],
   "source": [
    "std::vector<int> n2 = std::vector<int>(len);\n",
    "\n",
    "std::fill(n2.begin(),n2.end(),-1);\n",
    "\n",
    "result = std::accumulate(n2.begin(),n2.end(),0.0);\n",
    "\n",
    "std::cout << \"Result= \" << result << std::endl;"
   ]
  },
  {
   "cell_type": "markdown",
   "id": "ebd4033f",
   "metadata": {
    "slideshow": {
     "slide_type": "slide"
    }
   },
   "source": [
    "#### Implementation using the C++ STL parallel algorithms"
   ]
  },
  {
   "cell_type": "code",
   "execution_count": 22,
   "id": "4090cf70",
   "metadata": {
    "slideshow": {
     "slide_type": "fragment"
    }
   },
   "outputs": [
    {
     "data": {
      "text/plain": [
       "file written: parallel.cpp"
      ]
     },
     "execution_count": 22,
     "metadata": {},
     "output_type": "execute_result"
    }
   ],
   "source": [
    "%%writefile parallel.cpp\n",
    "#include<execution>\n",
    "#include<iostream>\n",
    "\n",
    "int main(void){\n",
    "\n",
    "size_t len = 1000000000;\n",
    "std::vector<int> n = std::vector<int>(len);\n",
    "\n",
    "std::fill(n.begin(),n.end(),-1);\n",
    "\n",
    "int result = 0;\n",
    "\n",
    "result = std::reduce(std::execution::par,n.begin(), n.end());\n",
    "\n",
    "std::cout << \"Result= \" << result << std::endl;\n",
    "\n",
    "return EXIT_SUCCESS;\n",
    "}"
   ]
  },
  {
   "cell_type": "markdown",
   "id": "6cf98982",
   "metadata": {
    "slideshow": {
     "slide_type": "slide"
    }
   },
   "source": [
    "##### Compilation\n",
    "\n",
    "The parallism for the gcc is based-on the [Threading Building Blocks](https://github.com/oneapi-src/oneTBB) libary. Therfore, we need to add `-ltbb` to the compiler. Since these feature are experimental, we need to use the following C++ standard `-std=c++1z`."
   ]
  },
  {
   "cell_type": "code",
   "execution_count": 23,
   "id": "e69dd9d5",
   "metadata": {
    "slideshow": {
     "slide_type": "fragment"
    }
   },
   "outputs": [
    {
     "data": {
      "text/html": [
       "<pre></pre><pre style=\"color: red\"></pre>"
      ]
     },
     "execution_count": 23,
     "metadata": {},
     "output_type": "execute_result"
    }
   ],
   "source": [
    "%%bash \n",
    "g++ -std=c++1z -ltbb parallel.cpp -o parallel"
   ]
  },
  {
   "cell_type": "code",
   "execution_count": 24,
   "id": "524d904c",
   "metadata": {
    "slideshow": {
     "slide_type": "fragment"
    }
   },
   "outputs": [
    {
     "data": {
      "text/html": [
       "<pre>Result= -1000000000\n",
       "</pre><pre style=\"color: red\"></pre>"
      ]
     },
     "execution_count": 24,
     "metadata": {},
     "output_type": "execute_result"
    }
   ],
   "source": [
    "%%bash\n",
    "./parallel"
   ]
  },
  {
   "cell_type": "markdown",
   "id": "595072bd",
   "metadata": {
    "slideshow": {
     "slide_type": "slide"
    }
   },
   "source": [
    "### Execution policies\n",
    "\n",
    "* `std::reduce(std::execution::par,n.begin(), n.end());` - Parallel execution\n",
    "* `std::reduce(std::execution::seq,n.begin(), n.end());` - Sequentiell execution\n",
    "* `std::reduce(std::execution::par_unseq,n.begin(), n.end());` - Parallel execution with vectorization\n",
    "\n",
    "[Documentation](https://en.cppreference.com/w/cpp/experimental/parallelism)\n",
    "\n",
    "Fore more details: CppCon 2016: Bryce AdelsteinLelbach [“The C++17 Parallel Algorithms Library and Beyond”](https://www.youtube.com/watch?v=Vck6kzWjY88)"
   ]
  }
 ],
 "metadata": {
  "celltoolbar": "Slideshow",
  "kernelspec": {
   "display_name": "C++17",
   "language": "C++",
   "name": "cling-cpp17"
  },
  "language_info": {
   "codemirror_mode": "c++",
   "file_extension": ".c++",
   "mimetype": "text/x-c++src",
   "name": "c++"
  }
 },
 "nbformat": 4,
 "nbformat_minor": 5
}
