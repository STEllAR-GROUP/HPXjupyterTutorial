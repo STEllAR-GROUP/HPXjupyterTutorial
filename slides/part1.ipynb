{
 "cells": [
  {
   "cell_type": "markdown",
   "id": "virgin-million",
   "metadata": {
    "slideshow": {
     "slide_type": "slide"
    }
   },
   "source": [
    "# Asynchronous computing and parallel algorithms"
   ]
  },
  {
   "cell_type": "code",
   "execution_count": null,
   "id": "every-dependence",
   "metadata": {},
   "outputs": [],
   "source": []
  }
 ],
 "metadata": {
  "celltoolbar": "Slideshow",
  "kernelspec": {
   "display_name": "C++17",
   "language": "C++",
   "name": "cling-cpp17"
  },
  "language_info": {
   "codemirror_mode": "c++",
   "file_extension": ".c++",
   "mimetype": "text/x-c++src",
   "name": "c++"
  }
 },
 "nbformat": 4,
 "nbformat_minor": 5
}
