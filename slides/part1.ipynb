{
 "cells": [
  {
   "cell_type": "markdown",
   "id": "interim-brick",
   "metadata": {
    "slideshow": {
     "slide_type": "slide"
    }
   },
   "source": [
    "# Asynchronous computing and parallel algorithms\n",
    "\n",
    "* Asynchronous programming using std::async and std::future\n",
    "* Asynchronous programming using std::async and std::future\n",
    "* Experimental support of the parallel algorithms in GCC and MSVC\n",
    "* Full support of parallel algorithms in HPX"
   ]
  },
  {
   "cell_type": "markdown",
   "id": "smoking-fifteen",
   "metadata": {
    "slideshow": {
     "slide_type": "slide"
    }
   },
   "source": [
    "## Asynchronous programming using std::async and std::future"
   ]
  },
  {
   "cell_type": "code",
   "execution_count": 1,
   "id": "ace8e738",
   "metadata": {
    "slideshow": {
     "slide_type": "slide"
    }
   },
   "outputs": [
    {
     "data": {
      "text/plain": [
       "file written: example.cpp"
      ]
     },
     "execution_count": 1,
     "metadata": {},
     "output_type": "execute_result"
    }
   ],
   "source": [
    "%%writefile example.cpp\n",
    "#include <future>\n",
    "#include <iostream>\n",
    "\n",
    "int add(int a, int b)\n",
    "{\n",
    "    return a + b;\n",
    "}\n",
    "\n",
    "int main(void)\n",
    "{\n",
    "int a = 5;\n",
    "int b = 5;\n",
    "std::future<int> result = std::async(add,a,b);\n",
    "\n",
    "std::cout<< result.get() << std::endl;\n",
    "\n",
    "return EXIT_SUCCESS;\n",
    "}"
   ]
  },
  {
   "cell_type": "markdown",
   "id": "8752e030",
   "metadata": {
    "slideshow": {
     "slide_type": "subslide"
    }
   },
   "source": [
    "### Compilation\n",
    "\n",
    "We need to add `-phtread` for the asyncronous execution"
   ]
  },
  {
   "cell_type": "code",
   "execution_count": 2,
   "id": "608525e5",
   "metadata": {
    "slideshow": {
     "slide_type": "fragment"
    }
   },
   "outputs": [
    {
     "name": "stderr",
     "output_type": "stream",
     "text": [
      "input_line_3:2:6: error: expected ';' after expression\n",
      " !g++ example.cpp -pthread -o example\n",
      "     ^\n",
      "     ;\n",
      "input_line_3:2:3: error: use of undeclared identifier 'g'\n",
      " !g++ example.cpp -pthread -o example\n",
      "  ^\n",
      "input_line_3:2:7: error: use of undeclared identifier 'example'\n",
      " !g++ example.cpp -pthread -o example\n",
      "      ^\n",
      "input_line_3:2:20: error: use of undeclared identifier 'pthread'\n",
      " !g++ example.cpp -pthread -o example\n",
      "                   ^\n",
      "input_line_3:2:29: error: use of undeclared identifier 'o'\n",
      " !g++ example.cpp -pthread -o example\n",
      "                            ^\n"
     ]
    },
    {
     "data": {
      "text/plain": []
     },
     "execution_count": 2,
     "metadata": {},
     "output_type": "execute_result"
    }
   ],
   "source": [
    "!g++ example.cpp -pthread -o example"
   ]
  },
  {
   "cell_type": "markdown",
   "id": "fe41a853",
   "metadata": {
    "slideshow": {
     "slide_type": "fragment"
    }
   },
   "source": [
    "### Exectution"
   ]
  },
  {
   "cell_type": "code",
   "execution_count": 3,
   "id": "19eaa9af",
   "metadata": {
    "slideshow": {
     "slide_type": "fragment"
    }
   },
   "outputs": [
    {
     "name": "stderr",
     "output_type": "stream",
     "text": [
      "input_line_3:2:3: error: expected expression\n",
      " !./example\n",
      "  ^\n"
     ]
    },
    {
     "data": {
      "text/plain": []
     },
     "execution_count": 3,
     "metadata": {},
     "output_type": "execute_result"
    }
   ],
   "source": [
    "!./example"
   ]
  },
  {
   "cell_type": "markdown",
   "id": "b3ed5d62",
   "metadata": {
    "slideshow": {
     "slide_type": "slide"
    }
   },
   "source": [
    "## Asynchronous programming using hpx::async and hpx::future"
   ]
  },
  {
   "cell_type": "code",
   "execution_count": 4,
   "id": "02cb74f9",
   "metadata": {
    "slideshow": {
     "slide_type": "fragment"
    }
   },
   "outputs": [
    {
     "data": {
      "text/plain": []
     },
     "execution_count": 4,
     "metadata": {},
     "output_type": "execute_result"
    }
   ],
   "source": [
    "#include<run_hpx.cpp>\n",
    "#include <hpx/future.hpp>\n",
    "#include <iostream>"
   ]
  },
  {
   "cell_type": "code",
   "execution_count": 5,
   "id": "b20ae4bf",
   "metadata": {
    "slideshow": {
     "slide_type": "fragment"
    }
   },
   "outputs": [
    {
     "data": {
      "text/plain": []
     },
     "execution_count": 5,
     "metadata": {},
     "output_type": "execute_result"
    }
   ],
   "source": [
    "int add(int a, int b)\n",
    "{\n",
    "    return a + b;\n",
    "}"
   ]
  },
  {
   "cell_type": "code",
   "execution_count": 6,
   "id": "0b58d01d",
   "metadata": {
    "slideshow": {
     "slide_type": "fragment"
    }
   },
   "outputs": [
    {
     "name": "stdout",
     "output_type": "stream",
     "text": [
      "10"
     ]
    },
    {
     "data": {
      "text/plain": [
       "(void) @0x7f5f3a6d8e60\n"
      ]
     },
     "execution_count": 6,
     "metadata": {},
     "output_type": "execute_result"
    }
   ],
   "source": [
    "run_hpx([](){\n",
    "\n",
    "hpx::lcos::future<int> result = hpx::async(add,5,5);\n",
    "\n",
    "std::cout << result.get() ;\n",
    "\n",
    "});"
   ]
  },
  {
   "cell_type": "markdown",
   "id": "14240fa7",
   "metadata": {
    "slideshow": {
     "slide_type": "slide"
    }
   },
   "source": [
    "### Example Numerical integration\n",
    "\n",
    "\n",
    "For this example the Taylor series for the $\\sin(x)$\n",
    "function is computed. The Taylor series is given by,\n",
    "\n",
    "$$ \\sin(x) \\approx = \\sum\\limits_{n=0}^N (-1)^{n-1} \\frac{x^{2n}}{(2n)!}.$$\n",
    "\n",
    "For the concurrent computation, the interval $[0, N]$ is split in two\n",
    "partitions from $[0, N/2]$ and $[(N/2)+1, N]$, and these are computed\n",
    "asynchronously using `hpx::async`. Note that each asynchronous function call\n",
    "returns an `hpx::future` which is needed to synchronize the collection\n",
    "of the partial results. "
   ]
  },
  {
   "cell_type": "code",
   "execution_count": 7,
   "id": "0074b02f",
   "metadata": {},
   "outputs": [
    {
     "data": {
      "text/plain": []
     },
     "execution_count": 7,
     "metadata": {},
     "output_type": "execute_result"
    }
   ],
   "source": [
    "#define long unsigned long long int "
   ]
  },
  {
   "cell_type": "code",
   "execution_count": 8,
   "id": "7acf4563",
   "metadata": {
    "slideshow": {
     "slide_type": "skip"
    }
   },
   "outputs": [
    {
     "data": {
      "text/plain": []
     },
     "execution_count": 8,
     "metadata": {},
     "output_type": "execute_result"
    }
   ],
   "source": [
    "long fact(long n) {\n",
    "   if (n == 0 || n == 1)\n",
    "   return 1;\n",
    "   else\n",
    "   return n * fact(n - 1);\n",
    "}\n",
    "\n"
   ]
  },
  {
   "cell_type": "code",
   "execution_count": 9,
   "id": "49af0f64",
   "metadata": {
    "slideshow": {
     "slide_type": "slide"
    }
   },
   "outputs": [
    {
     "data": {
      "text/plain": []
     },
     "execution_count": 9,
     "metadata": {},
     "output_type": "execute_result"
    }
   ],
   "source": [
    "#include <cmath>\n",
    "\n",
    "// Define the partial taylor function\n",
    "double taylor(size_t begin, size_t end, size_t n, double x)\n",
    "{\n",
    " double denom = fact(2 * n);\n",
    " double res = 0;\n",
    " for (size_t i = begin; i != end; ++i)\n",
    " {\n",
    " res += std::pow(-1, i - 1) * std::pow(x, 2 * n) / denom;\n",
    " }\n",
    " return res;\n",
    "}"
   ]
  },
  {
   "cell_type": "code",
   "execution_count": 10,
   "id": "b14b74b5",
   "metadata": {
    "slideshow": {
     "slide_type": "slide"
    }
   },
   "outputs": [
    {
     "name": "stdout",
     "output_type": "stream",
     "text": [
      "Sin(2.) = 0.000148259\n"
     ]
    },
    {
     "data": {
      "text/plain": [
       "(void) @0x7f5f3a6d8e60\n"
      ]
     },
     "execution_count": 10,
     "metadata": {},
     "output_type": "execute_result"
    }
   ],
   "source": [
    "run_hpx([](){\n",
    "\n",
    "// Compute the Talor series sin(2.0) for 100 iterations\n",
    "size_t n = 25;\n",
    "\n",
    "// Launch two concurrent computations of each partial result\n",
    "hpx::future<double> f1 = hpx::async(taylor, 0, n / 2, n, 2.);\n",
    "hpx::future<double> f2 = hpx::async(taylor, (n / 2) + 1, n, n, 2.);\n",
    "\n",
    "// Introduce a barrier to gather the results\n",
    "double res = f1.get() + f2.get();\n",
    "\n",
    "// Print the result\n",
    "std::cout << \"Sin(2.) = \" << res << std::endl;\n",
    "\n",
    "});"
   ]
  },
  {
   "cell_type": "code",
   "execution_count": null,
   "id": "7b549f29",
   "metadata": {},
   "outputs": [],
   "source": []
  }
 ],
 "metadata": {
  "celltoolbar": "Slideshow",
  "kernelspec": {
   "display_name": "C++17",
   "language": "C++",
   "name": "cling-cpp17"
  },
  "language_info": {
   "codemirror_mode": "c++",
   "file_extension": ".c++",
   "mimetype": "text/x-c++src",
   "name": "c++"
  }
 },
 "nbformat": 4,
 "nbformat_minor": 5
}
