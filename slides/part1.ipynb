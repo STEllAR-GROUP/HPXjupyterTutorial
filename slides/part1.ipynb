{
 "cells": [
  {
   "cell_type": "markdown",
   "id": "interim-brick",
   "metadata": {
    "slideshow": {
     "slide_type": "slide"
    }
   },
   "source": [
    "# Asynchronous computing and parallel algorithms\n",
    "\n",
    "* Asynchronous programming using std::async and std::future\n",
    "* Asynchronous programming using std::async and std::future\n",
    "* Experimental support of the parallel algorithms in GCC and MSVC\n",
    "* Full support of parallel algorithms in HPX"
   ]
  },
  {
   "cell_type": "markdown",
   "id": "smoking-fifteen",
   "metadata": {
    "slideshow": {
     "slide_type": "slide"
    }
   },
   "source": [
    "## Asynchronous programming using std::async and std::future"
   ]
  },
  {
   "cell_type": "code",
   "execution_count": 18,
   "id": "29b93a9b",
   "metadata": {
    "slideshow": {
     "slide_type": "slide"
    }
   },
   "outputs": [
    {
     "data": {
      "text/plain": [
       "file written: future.cpp"
      ]
     },
     "execution_count": 18,
     "metadata": {},
     "output_type": "execute_result"
    }
   ],
   "source": [
    "%%writefile future.cpp\n",
    "#include <future>\n",
    "#include <iostream>\n",
    "\n",
    "int add(int a, int b)\n",
    "{\n",
    "    return a + b;\n",
    "}\n",
    "\n",
    "int main(void)\n",
    "{\n",
    "int a = 5;\n",
    "int b = 5;\n",
    "std::future<int> result = std::async(add,a,b);\n",
    "\n",
    "std::cout<< result.get() << std::endl;\n",
    "\n",
    "return 0;\n",
    "}"
   ]
  },
  {
   "cell_type": "markdown",
   "id": "cb957495",
   "metadata": {
    "slideshow": {
     "slide_type": "subslide"
    }
   },
   "source": [
    "### Compilation\n",
    "\n",
    "We need to add `-phtread` for the asyncronous execution"
   ]
  },
  {
   "cell_type": "code",
   "execution_count": 28,
   "id": "43fdcdbc",
   "metadata": {
    "slideshow": {
     "slide_type": "subslide"
    }
   },
   "outputs": [
    {
     "data": {
      "text/html": [
       "<pre></pre><pre style=\"color: red\"></pre>"
      ]
     },
     "execution_count": 28,
     "metadata": {},
     "output_type": "execute_result"
    }
   ],
   "source": [
    "%%bash g++ -pthread future.cpp -o future"
   ]
  },
  {
   "cell_type": "markdown",
   "id": "4051ef6e",
   "metadata": {
    "slideshow": {
     "slide_type": "subslide"
    }
   },
   "source": [
    "### Exectution"
   ]
  },
  {
   "cell_type": "code",
   "execution_count": 31,
   "id": "0ef989ca",
   "metadata": {
    "slideshow": {
     "slide_type": "subslide"
    }
   },
   "outputs": [
    {
     "data": {
      "text/html": [
       "<pre></pre><pre style=\"color: red\"></pre>"
      ]
     },
     "execution_count": 31,
     "metadata": {},
     "output_type": "execute_result"
    }
   ],
   "source": [
    "%%bash ./future"
   ]
  },
  {
   "cell_type": "code",
   "execution_count": null,
   "id": "cb5fb26f",
   "metadata": {},
   "outputs": [],
   "source": []
  }
 ],
 "metadata": {
  "celltoolbar": "Slideshow",
  "kernelspec": {
   "display_name": "C++17",
   "language": "C++",
   "name": "cling-cpp17"
  },
  "language_info": {
   "codemirror_mode": "c++",
   "file_extension": ".c++",
   "mimetype": "text/x-c++src",
   "name": "c++"
  }
 },
 "nbformat": 4,
 "nbformat_minor": 5
}
